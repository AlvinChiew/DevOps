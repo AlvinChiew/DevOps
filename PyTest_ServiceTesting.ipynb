{
  "nbformat": 4,
  "nbformat_minor": 0,
  "metadata": {
    "colab": {
      "name": "ModelTesting_PyTest.ipynb",
      "provenance": [],
      "collapsed_sections": [],
      "authorship_tag": "ABX9TyPCRp/Zm9ln65Z3/RELU1wU"
    },
    "kernelspec": {
      "name": "python3",
      "display_name": "Python 3"
    },
    "language_info": {
      "name": "python"
    }
  },
  "cells": [
    {
      "cell_type": "markdown",
      "metadata": {
        "id": "cgk7Ruk6yrbF"
      },
      "source": [
        "# Create Scripts"
      ]
    },
    {
      "cell_type": "code",
      "metadata": {
        "colab": {
          "base_uri": "https://localhost:8080/"
        },
        "id": "I9UULCu_yRuI",
        "outputId": "59c94ab1-2839-4b75-ab78-bb80b73fbedc"
      },
      "source": [
        "%%writefile main_fail.py\n",
        "from typing import List\n",
        "\n",
        "def total(xs: List[float]) -> float:\n",
        "    result: float = -1.0\n",
        "    return result\n",
        "\n",
        "def join(xs: List[int], delim: str) -> str:\n",
        "    s: str = \"a\"\n",
        "    return s"
      ],
      "execution_count": 79,
      "outputs": [
        {
          "output_type": "stream",
          "text": [
            "Overwriting main_fail.py\n"
          ],
          "name": "stdout"
        }
      ]
    },
    {
      "cell_type": "code",
      "metadata": {
        "colab": {
          "base_uri": "https://localhost:8080/"
        },
        "id": "I4ZOqMrXsoqy",
        "outputId": "04832988-fb6e-4bb2-c9bb-47997b2613f8"
      },
      "source": [
        "%%writefile main_pass.py\n",
        "from typing import List\n",
        "\n",
        "def total(xs: List[float]) -> float:    \n",
        "    result: float = 0.0\n",
        "    \n",
        "    for x in xs:\n",
        "        result += x\n",
        "\n",
        "    return result\n",
        "\n",
        "def join(xs: List[int], delim: str) -> str:\n",
        "    s: str = \"\"\n",
        "    xs = [str(x) for x in xs]\n",
        "    s = delim.join(xs)\n",
        "    return s"
      ],
      "execution_count": 80,
      "outputs": [
        {
          "output_type": "stream",
          "text": [
            "Overwriting main_pass.py\n"
          ],
          "name": "stdout"
        }
      ]
    },
    {
      "cell_type": "markdown",
      "metadata": {
        "id": "0ieetQwzyvIW"
      },
      "source": [
        "# Create Test\n",
        "- What is the usual input param(s)\n",
        "- What is the valid but unusual input param(s)\n",
        "- What is the expected return for each set of input(s)"
      ]
    },
    {
      "cell_type": "code",
      "metadata": {
        "colab": {
          "base_uri": "https://localhost:8080/"
        },
        "id": "ZtmA3McxxFrr",
        "outputId": "aa745f26-a51e-4c47-ff8f-d1bafb6764c6"
      },
      "source": [
        "%%writefile test_main_fail.py\n",
        "from main_fail import total, join\n",
        "from random import randint\n",
        "\n",
        "f1 = randint(0, 1000)/10\n",
        "f2 = randint(0, 1000)/10\n",
        "\n",
        "def test_total_empty():\n",
        "    \"\"\" <docstring to describe test & expected output> \"\"\"\n",
        "    assert total([]) == 0.0\n",
        "\n",
        "def test_total_single_item():\n",
        "    assert total([f1]) == f1\n",
        "\n",
        "def test_total_many_item():\n",
        "    assert total([f1, f2]) == f1 + f2\n",
        "\n",
        "\n",
        "def test_join_use_case():\n",
        "    assert join([1, 2, 3], \", \") == \"1, 2, 3\"\n",
        "\n",
        "def test_join_single_item():\n",
        "    assert join([1], \", \") == \"1\"\n",
        "\n",
        "def test_join_empty_delim():\n",
        "    assert join([1, 2, 3], \"\") == \"123\""
      ],
      "execution_count": 81,
      "outputs": [
        {
          "output_type": "stream",
          "text": [
            "Overwriting test_main_fail.py\n"
          ],
          "name": "stdout"
        }
      ]
    },
    {
      "cell_type": "code",
      "metadata": {
        "colab": {
          "base_uri": "https://localhost:8080/"
        },
        "id": "9uMOcBKUzvEw",
        "outputId": "531dfd7a-aa72-4ef9-e399-5d6ec3c45b83"
      },
      "source": [
        "%%writefile test_main_pass.py\n",
        "from main_pass import total, join\n",
        "from random import randint\n",
        "\n",
        "f1 = randint(0, 1000)/10\n",
        "f2 = randint(0, 1000)/10\n",
        "\n",
        "def test_total_empty():\n",
        "    assert total([]) == 0.0\n",
        "\n",
        "def test_total_single_item():\n",
        "    assert total([f1]) == f1\n",
        "\n",
        "def test_total_many_item():\n",
        "    assert total([f1, f2]) == f1 + f2\n",
        "\n",
        "\n",
        "def test_join_use_case():\n",
        "    assert join([1, 2, 3], \", \") == \"1, 2, 3\"\n",
        "\n",
        "def test_join_single_item():\n",
        "    assert join([1], \", \") == \"1\"\n",
        "\n",
        "def test_join_empty_delim():\n",
        "    assert join([1, 2, 3], \"\") == \"123\""
      ],
      "execution_count": 82,
      "outputs": [
        {
          "output_type": "stream",
          "text": [
            "Overwriting test_main_pass.py\n"
          ],
          "name": "stdout"
        }
      ]
    },
    {
      "cell_type": "markdown",
      "metadata": {
        "id": "M5yCbjHKyz1f"
      },
      "source": [
        "# Run Test"
      ]
    },
    {
      "cell_type": "markdown",
      "metadata": {
        "id": "BI5zNYnby2fm"
      },
      "source": [
        "## With Failure"
      ]
    },
    {
      "cell_type": "code",
      "metadata": {
        "colab": {
          "base_uri": "https://localhost:8080/"
        },
        "id": "XC529VobwKPJ",
        "outputId": "5d35d953-a853-40d2-8a35-037b6b8186a8"
      },
      "source": [
        "!python -m pytest  test_main_fail.py"
      ],
      "execution_count": 83,
      "outputs": [
        {
          "output_type": "stream",
          "text": [
            "\u001b[1m============================= test session starts ==============================\u001b[0m\n",
            "platform linux -- Python 3.7.10, pytest-3.6.4, py-1.10.0, pluggy-0.7.1\n",
            "rootdir: /content, inifile:\n",
            "plugins: typeguard-2.7.1\n",
            "\u001b[1m\rcollecting 0 items                                                             \u001b[0m\u001b[1m\rcollecting 6 items                                                             \u001b[0m\u001b[1m\rcollected 6 items                                                              \u001b[0m\n",
            "\n",
            "test_main_fail.py FFFFFF\u001b[36m                                                 [100%]\u001b[0m\n",
            "\n",
            "=================================== FAILURES ===================================\n",
            "\u001b[31m\u001b[1m_______________________________ test_total_empty _______________________________\u001b[0m\n",
            "\n",
            "\u001b[1m    def test_total_empty():\u001b[0m\n",
            "\u001b[1m>       assert total([]) == 0.0\u001b[0m\n",
            "\u001b[1m\u001b[31mE       assert -1.0 == 0.0\u001b[0m\n",
            "\u001b[1m\u001b[31mE        +  where -1.0 = total([])\u001b[0m\n",
            "\n",
            "\u001b[1m\u001b[31mtest_main_fail.py\u001b[0m:8: AssertionError\n",
            "\u001b[31m\u001b[1m____________________________ test_total_single_item ____________________________\u001b[0m\n",
            "\n",
            "\u001b[1m    def test_total_single_item():\u001b[0m\n",
            "\u001b[1m>       assert total([f1]) == f1\u001b[0m\n",
            "\u001b[1m\u001b[31mE       assert -1.0 == 89.0\u001b[0m\n",
            "\u001b[1m\u001b[31mE        +  where -1.0 = total([89.0])\u001b[0m\n",
            "\n",
            "\u001b[1m\u001b[31mtest_main_fail.py\u001b[0m:11: AssertionError\n",
            "\u001b[31m\u001b[1m_____________________________ test_total_many_item _____________________________\u001b[0m\n",
            "\n",
            "\u001b[1m    def test_total_many_item():\u001b[0m\n",
            "\u001b[1m>       assert total([f1, f2]) == f1 + f2\u001b[0m\n",
            "\u001b[1m\u001b[31mE       assert -1.0 == (89.0 + 5.6)\u001b[0m\n",
            "\u001b[1m\u001b[31mE        +  where -1.0 = total([89.0, 5.6])\u001b[0m\n",
            "\n",
            "\u001b[1m\u001b[31mtest_main_fail.py\u001b[0m:14: AssertionError\n",
            "\u001b[31m\u001b[1m______________________________ test_join_use_case ______________________________\u001b[0m\n",
            "\n",
            "\u001b[1m    def test_join_use_case():\u001b[0m\n",
            "\u001b[1m>       assert join([1, 2, 3], \", \") == \"1, 2, 3\"\u001b[0m\n",
            "\u001b[1m\u001b[31mE       AssertionError: assert 'a' == '1, 2, 3'\u001b[0m\n",
            "\u001b[1m\u001b[31mE         - a\u001b[0m\n",
            "\u001b[1m\u001b[31mE         + 1, 2, 3\u001b[0m\n",
            "\n",
            "\u001b[1m\u001b[31mtest_main_fail.py\u001b[0m:18: AssertionError\n",
            "\u001b[31m\u001b[1m____________________________ test_join_single_item _____________________________\u001b[0m\n",
            "\n",
            "\u001b[1m    def test_join_single_item():\u001b[0m\n",
            "\u001b[1m>       assert join([1], \", \") == \"1\"\u001b[0m\n",
            "\u001b[1m\u001b[31mE       AssertionError: assert 'a' == '1'\u001b[0m\n",
            "\u001b[1m\u001b[31mE         - a\u001b[0m\n",
            "\u001b[1m\u001b[31mE         + 1\u001b[0m\n",
            "\n",
            "\u001b[1m\u001b[31mtest_main_fail.py\u001b[0m:21: AssertionError\n",
            "\u001b[31m\u001b[1m____________________________ test_join_empty_delim _____________________________\u001b[0m\n",
            "\n",
            "\u001b[1m    def test_join_empty_delim():\u001b[0m\n",
            "\u001b[1m>       assert join([1, 2, 3], \"\") == \"123\"\u001b[0m\n",
            "\u001b[1m\u001b[31mE       AssertionError: assert 'a' == '123'\u001b[0m\n",
            "\u001b[1m\u001b[31mE         - a\u001b[0m\n",
            "\u001b[1m\u001b[31mE         + 123\u001b[0m\n",
            "\n",
            "\u001b[1m\u001b[31mtest_main_fail.py\u001b[0m:24: AssertionError\n",
            "\u001b[31m\u001b[1m=========================== 6 failed in 0.06 seconds ===========================\u001b[0m\n"
          ],
          "name": "stdout"
        }
      ]
    },
    {
      "cell_type": "markdown",
      "metadata": {
        "id": "IOi4Gnz6y6By"
      },
      "source": [
        "## All Pass"
      ]
    },
    {
      "cell_type": "code",
      "metadata": {
        "colab": {
          "base_uri": "https://localhost:8080/"
        },
        "id": "uvO1HV-O4Wo5",
        "outputId": "f5ce5e67-ff8a-41c0-ea3a-6cb8498b721b"
      },
      "source": [
        "!python -m pytest  test_main_pass.py"
      ],
      "execution_count": 84,
      "outputs": [
        {
          "output_type": "stream",
          "text": [
            "\u001b[1m============================= test session starts ==============================\u001b[0m\n",
            "platform linux -- Python 3.7.10, pytest-3.6.4, py-1.10.0, pluggy-0.7.1\n",
            "rootdir: /content, inifile:\n",
            "plugins: typeguard-2.7.1\n",
            "\u001b[1m\rcollecting 0 items                                                             \u001b[0m\u001b[1m\rcollecting 6 items                                                             \u001b[0m\u001b[1m\rcollected 6 items                                                              \u001b[0m\n",
            "\n",
            "test_main_pass.py ......\u001b[36m                                                 [100%]\u001b[0m\n",
            "\n",
            "\u001b[32m\u001b[1m=========================== 6 passed in 0.03 seconds ===========================\u001b[0m\n"
          ],
          "name": "stdout"
        }
      ]
    }
  ]
}