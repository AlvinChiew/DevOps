{
  "nbformat": 4,
  "nbformat_minor": 0,
  "metadata": {
    "colab": {
      "name": "ModelDeployment_BentoML.ipynb",
      "provenance": [],
      "collapsed_sections": [],
      "toc_visible": true,
      "authorship_tag": "ABX9TyNzVTFh5WJpKzp2NAhWVjfi"
    },
    "kernelspec": {
      "name": "python3",
      "display_name": "Python 3"
    },
    "language_info": {
      "name": "python"
    },
    "widgets": {
      "application/vnd.jupyter.widget-state+json": {
        "e688f0ac7bab47d88a34b3aaf9ad4590": {
          "model_module": "@jupyter-widgets/controls",
          "model_name": "HBoxModel",
          "state": {
            "_view_name": "HBoxView",
            "_dom_classes": [],
            "_model_name": "HBoxModel",
            "_view_module": "@jupyter-widgets/controls",
            "_model_module_version": "1.5.0",
            "_view_count": null,
            "_view_module_version": "1.5.0",
            "box_style": "",
            "layout": "IPY_MODEL_31c38f147ba143098a476d1f12016251",
            "_model_module": "@jupyter-widgets/controls",
            "children": [
              "IPY_MODEL_fb77322c9cfc4732824d998a538a85fc",
              "IPY_MODEL_c5a6da0483df4ab7a53c0395113922b0"
            ]
          }
        },
        "31c38f147ba143098a476d1f12016251": {
          "model_module": "@jupyter-widgets/base",
          "model_name": "LayoutModel",
          "state": {
            "_view_name": "LayoutView",
            "grid_template_rows": null,
            "right": null,
            "justify_content": null,
            "_view_module": "@jupyter-widgets/base",
            "overflow": null,
            "_model_module_version": "1.2.0",
            "_view_count": null,
            "flex_flow": null,
            "width": null,
            "min_width": null,
            "border": null,
            "align_items": null,
            "bottom": null,
            "_model_module": "@jupyter-widgets/base",
            "top": null,
            "grid_column": null,
            "overflow_y": null,
            "overflow_x": null,
            "grid_auto_flow": null,
            "grid_area": null,
            "grid_template_columns": null,
            "flex": null,
            "_model_name": "LayoutModel",
            "justify_items": null,
            "grid_row": null,
            "max_height": null,
            "align_content": null,
            "visibility": null,
            "align_self": null,
            "height": null,
            "min_height": null,
            "padding": null,
            "grid_auto_rows": null,
            "grid_gap": null,
            "max_width": null,
            "order": null,
            "_view_module_version": "1.2.0",
            "grid_template_areas": null,
            "object_position": null,
            "object_fit": null,
            "grid_auto_columns": null,
            "margin": null,
            "display": null,
            "left": null
          }
        },
        "fb77322c9cfc4732824d998a538a85fc": {
          "model_module": "@jupyter-widgets/controls",
          "model_name": "FloatProgressModel",
          "state": {
            "_view_name": "ProgressView",
            "style": "IPY_MODEL_9148474abe1240ceb627a22964ca047f",
            "_dom_classes": [],
            "description": "Downloading: 100%",
            "_model_name": "FloatProgressModel",
            "bar_style": "success",
            "max": 629,
            "_view_module": "@jupyter-widgets/controls",
            "_model_module_version": "1.5.0",
            "value": 629,
            "_view_count": null,
            "_view_module_version": "1.5.0",
            "orientation": "horizontal",
            "min": 0,
            "description_tooltip": null,
            "_model_module": "@jupyter-widgets/controls",
            "layout": "IPY_MODEL_1b235ae62c7342249d703d39616ec2f7"
          }
        },
        "c5a6da0483df4ab7a53c0395113922b0": {
          "model_module": "@jupyter-widgets/controls",
          "model_name": "HTMLModel",
          "state": {
            "_view_name": "HTMLView",
            "style": "IPY_MODEL_7e81cdfa4cf642ffa53589e53856e190",
            "_dom_classes": [],
            "description": "",
            "_model_name": "HTMLModel",
            "placeholder": "​",
            "_view_module": "@jupyter-widgets/controls",
            "_model_module_version": "1.5.0",
            "value": " 629/629 [00:10&lt;00:00, 62.3B/s]",
            "_view_count": null,
            "_view_module_version": "1.5.0",
            "description_tooltip": null,
            "_model_module": "@jupyter-widgets/controls",
            "layout": "IPY_MODEL_e7d95336d5ce4774814c5f4d6430b44a"
          }
        },
        "9148474abe1240ceb627a22964ca047f": {
          "model_module": "@jupyter-widgets/controls",
          "model_name": "ProgressStyleModel",
          "state": {
            "_view_name": "StyleView",
            "_model_name": "ProgressStyleModel",
            "description_width": "initial",
            "_view_module": "@jupyter-widgets/base",
            "_model_module_version": "1.5.0",
            "_view_count": null,
            "_view_module_version": "1.2.0",
            "bar_color": null,
            "_model_module": "@jupyter-widgets/controls"
          }
        },
        "1b235ae62c7342249d703d39616ec2f7": {
          "model_module": "@jupyter-widgets/base",
          "model_name": "LayoutModel",
          "state": {
            "_view_name": "LayoutView",
            "grid_template_rows": null,
            "right": null,
            "justify_content": null,
            "_view_module": "@jupyter-widgets/base",
            "overflow": null,
            "_model_module_version": "1.2.0",
            "_view_count": null,
            "flex_flow": null,
            "width": null,
            "min_width": null,
            "border": null,
            "align_items": null,
            "bottom": null,
            "_model_module": "@jupyter-widgets/base",
            "top": null,
            "grid_column": null,
            "overflow_y": null,
            "overflow_x": null,
            "grid_auto_flow": null,
            "grid_area": null,
            "grid_template_columns": null,
            "flex": null,
            "_model_name": "LayoutModel",
            "justify_items": null,
            "grid_row": null,
            "max_height": null,
            "align_content": null,
            "visibility": null,
            "align_self": null,
            "height": null,
            "min_height": null,
            "padding": null,
            "grid_auto_rows": null,
            "grid_gap": null,
            "max_width": null,
            "order": null,
            "_view_module_version": "1.2.0",
            "grid_template_areas": null,
            "object_position": null,
            "object_fit": null,
            "grid_auto_columns": null,
            "margin": null,
            "display": null,
            "left": null
          }
        },
        "7e81cdfa4cf642ffa53589e53856e190": {
          "model_module": "@jupyter-widgets/controls",
          "model_name": "DescriptionStyleModel",
          "state": {
            "_view_name": "StyleView",
            "_model_name": "DescriptionStyleModel",
            "description_width": "",
            "_view_module": "@jupyter-widgets/base",
            "_model_module_version": "1.5.0",
            "_view_count": null,
            "_view_module_version": "1.2.0",
            "_model_module": "@jupyter-widgets/controls"
          }
        },
        "e7d95336d5ce4774814c5f4d6430b44a": {
          "model_module": "@jupyter-widgets/base",
          "model_name": "LayoutModel",
          "state": {
            "_view_name": "LayoutView",
            "grid_template_rows": null,
            "right": null,
            "justify_content": null,
            "_view_module": "@jupyter-widgets/base",
            "overflow": null,
            "_model_module_version": "1.2.0",
            "_view_count": null,
            "flex_flow": null,
            "width": null,
            "min_width": null,
            "border": null,
            "align_items": null,
            "bottom": null,
            "_model_module": "@jupyter-widgets/base",
            "top": null,
            "grid_column": null,
            "overflow_y": null,
            "overflow_x": null,
            "grid_auto_flow": null,
            "grid_area": null,
            "grid_template_columns": null,
            "flex": null,
            "_model_name": "LayoutModel",
            "justify_items": null,
            "grid_row": null,
            "max_height": null,
            "align_content": null,
            "visibility": null,
            "align_self": null,
            "height": null,
            "min_height": null,
            "padding": null,
            "grid_auto_rows": null,
            "grid_gap": null,
            "max_width": null,
            "order": null,
            "_view_module_version": "1.2.0",
            "grid_template_areas": null,
            "object_position": null,
            "object_fit": null,
            "grid_auto_columns": null,
            "margin": null,
            "display": null,
            "left": null
          }
        },
        "d82fac5ca0094077ba27c161db0b6c87": {
          "model_module": "@jupyter-widgets/controls",
          "model_name": "HBoxModel",
          "state": {
            "_view_name": "HBoxView",
            "_dom_classes": [],
            "_model_name": "HBoxModel",
            "_view_module": "@jupyter-widgets/controls",
            "_model_module_version": "1.5.0",
            "_view_count": null,
            "_view_module_version": "1.5.0",
            "box_style": "",
            "layout": "IPY_MODEL_f18b5a2803b1487f9bcc003b4ff3ae1f",
            "_model_module": "@jupyter-widgets/controls",
            "children": [
              "IPY_MODEL_189fb46a2e7e497187a2182fa1614c1a",
              "IPY_MODEL_92ff90807d0942698e5d62795d17ae6a"
            ]
          }
        },
        "f18b5a2803b1487f9bcc003b4ff3ae1f": {
          "model_module": "@jupyter-widgets/base",
          "model_name": "LayoutModel",
          "state": {
            "_view_name": "LayoutView",
            "grid_template_rows": null,
            "right": null,
            "justify_content": null,
            "_view_module": "@jupyter-widgets/base",
            "overflow": null,
            "_model_module_version": "1.2.0",
            "_view_count": null,
            "flex_flow": null,
            "width": null,
            "min_width": null,
            "border": null,
            "align_items": null,
            "bottom": null,
            "_model_module": "@jupyter-widgets/base",
            "top": null,
            "grid_column": null,
            "overflow_y": null,
            "overflow_x": null,
            "grid_auto_flow": null,
            "grid_area": null,
            "grid_template_columns": null,
            "flex": null,
            "_model_name": "LayoutModel",
            "justify_items": null,
            "grid_row": null,
            "max_height": null,
            "align_content": null,
            "visibility": null,
            "align_self": null,
            "height": null,
            "min_height": null,
            "padding": null,
            "grid_auto_rows": null,
            "grid_gap": null,
            "max_width": null,
            "order": null,
            "_view_module_version": "1.2.0",
            "grid_template_areas": null,
            "object_position": null,
            "object_fit": null,
            "grid_auto_columns": null,
            "margin": null,
            "display": null,
            "left": null
          }
        },
        "189fb46a2e7e497187a2182fa1614c1a": {
          "model_module": "@jupyter-widgets/controls",
          "model_name": "FloatProgressModel",
          "state": {
            "_view_name": "ProgressView",
            "style": "IPY_MODEL_dd496469874c4e2ea7d27e3f42892a0c",
            "_dom_classes": [],
            "description": "Downloading: 100%",
            "_model_name": "FloatProgressModel",
            "bar_style": "success",
            "max": 267844284,
            "_view_module": "@jupyter-widgets/controls",
            "_model_module_version": "1.5.0",
            "value": 267844284,
            "_view_count": null,
            "_view_module_version": "1.5.0",
            "orientation": "horizontal",
            "min": 0,
            "description_tooltip": null,
            "_model_module": "@jupyter-widgets/controls",
            "layout": "IPY_MODEL_e05f69c6664442f49ab77cabc7afa408"
          }
        },
        "92ff90807d0942698e5d62795d17ae6a": {
          "model_module": "@jupyter-widgets/controls",
          "model_name": "HTMLModel",
          "state": {
            "_view_name": "HTMLView",
            "style": "IPY_MODEL_e04ac558ec184860b25a81cbb23ec280",
            "_dom_classes": [],
            "description": "",
            "_model_name": "HTMLModel",
            "placeholder": "​",
            "_view_module": "@jupyter-widgets/controls",
            "_model_module_version": "1.5.0",
            "value": " 268M/268M [00:09&lt;00:00, 28.9MB/s]",
            "_view_count": null,
            "_view_module_version": "1.5.0",
            "description_tooltip": null,
            "_model_module": "@jupyter-widgets/controls",
            "layout": "IPY_MODEL_40024928007e458b80ddd7aebfd1aef2"
          }
        },
        "dd496469874c4e2ea7d27e3f42892a0c": {
          "model_module": "@jupyter-widgets/controls",
          "model_name": "ProgressStyleModel",
          "state": {
            "_view_name": "StyleView",
            "_model_name": "ProgressStyleModel",
            "description_width": "initial",
            "_view_module": "@jupyter-widgets/base",
            "_model_module_version": "1.5.0",
            "_view_count": null,
            "_view_module_version": "1.2.0",
            "bar_color": null,
            "_model_module": "@jupyter-widgets/controls"
          }
        },
        "e05f69c6664442f49ab77cabc7afa408": {
          "model_module": "@jupyter-widgets/base",
          "model_name": "LayoutModel",
          "state": {
            "_view_name": "LayoutView",
            "grid_template_rows": null,
            "right": null,
            "justify_content": null,
            "_view_module": "@jupyter-widgets/base",
            "overflow": null,
            "_model_module_version": "1.2.0",
            "_view_count": null,
            "flex_flow": null,
            "width": null,
            "min_width": null,
            "border": null,
            "align_items": null,
            "bottom": null,
            "_model_module": "@jupyter-widgets/base",
            "top": null,
            "grid_column": null,
            "overflow_y": null,
            "overflow_x": null,
            "grid_auto_flow": null,
            "grid_area": null,
            "grid_template_columns": null,
            "flex": null,
            "_model_name": "LayoutModel",
            "justify_items": null,
            "grid_row": null,
            "max_height": null,
            "align_content": null,
            "visibility": null,
            "align_self": null,
            "height": null,
            "min_height": null,
            "padding": null,
            "grid_auto_rows": null,
            "grid_gap": null,
            "max_width": null,
            "order": null,
            "_view_module_version": "1.2.0",
            "grid_template_areas": null,
            "object_position": null,
            "object_fit": null,
            "grid_auto_columns": null,
            "margin": null,
            "display": null,
            "left": null
          }
        },
        "e04ac558ec184860b25a81cbb23ec280": {
          "model_module": "@jupyter-widgets/controls",
          "model_name": "DescriptionStyleModel",
          "state": {
            "_view_name": "StyleView",
            "_model_name": "DescriptionStyleModel",
            "description_width": "",
            "_view_module": "@jupyter-widgets/base",
            "_model_module_version": "1.5.0",
            "_view_count": null,
            "_view_module_version": "1.2.0",
            "_model_module": "@jupyter-widgets/controls"
          }
        },
        "40024928007e458b80ddd7aebfd1aef2": {
          "model_module": "@jupyter-widgets/base",
          "model_name": "LayoutModel",
          "state": {
            "_view_name": "LayoutView",
            "grid_template_rows": null,
            "right": null,
            "justify_content": null,
            "_view_module": "@jupyter-widgets/base",
            "overflow": null,
            "_model_module_version": "1.2.0",
            "_view_count": null,
            "flex_flow": null,
            "width": null,
            "min_width": null,
            "border": null,
            "align_items": null,
            "bottom": null,
            "_model_module": "@jupyter-widgets/base",
            "top": null,
            "grid_column": null,
            "overflow_y": null,
            "overflow_x": null,
            "grid_auto_flow": null,
            "grid_area": null,
            "grid_template_columns": null,
            "flex": null,
            "_model_name": "LayoutModel",
            "justify_items": null,
            "grid_row": null,
            "max_height": null,
            "align_content": null,
            "visibility": null,
            "align_self": null,
            "height": null,
            "min_height": null,
            "padding": null,
            "grid_auto_rows": null,
            "grid_gap": null,
            "max_width": null,
            "order": null,
            "_view_module_version": "1.2.0",
            "grid_template_areas": null,
            "object_position": null,
            "object_fit": null,
            "grid_auto_columns": null,
            "margin": null,
            "display": null,
            "left": null
          }
        },
        "204b9ad7043a4719aafe9cd8047ef621": {
          "model_module": "@jupyter-widgets/controls",
          "model_name": "HBoxModel",
          "state": {
            "_view_name": "HBoxView",
            "_dom_classes": [],
            "_model_name": "HBoxModel",
            "_view_module": "@jupyter-widgets/controls",
            "_model_module_version": "1.5.0",
            "_view_count": null,
            "_view_module_version": "1.5.0",
            "box_style": "",
            "layout": "IPY_MODEL_08d82d80991c4648b0ff3fb0bc45496e",
            "_model_module": "@jupyter-widgets/controls",
            "children": [
              "IPY_MODEL_de980f7405da4f35aaadae8971acbf98",
              "IPY_MODEL_da59417dff0d47959bf717289a41fa61"
            ]
          }
        },
        "08d82d80991c4648b0ff3fb0bc45496e": {
          "model_module": "@jupyter-widgets/base",
          "model_name": "LayoutModel",
          "state": {
            "_view_name": "LayoutView",
            "grid_template_rows": null,
            "right": null,
            "justify_content": null,
            "_view_module": "@jupyter-widgets/base",
            "overflow": null,
            "_model_module_version": "1.2.0",
            "_view_count": null,
            "flex_flow": null,
            "width": null,
            "min_width": null,
            "border": null,
            "align_items": null,
            "bottom": null,
            "_model_module": "@jupyter-widgets/base",
            "top": null,
            "grid_column": null,
            "overflow_y": null,
            "overflow_x": null,
            "grid_auto_flow": null,
            "grid_area": null,
            "grid_template_columns": null,
            "flex": null,
            "_model_name": "LayoutModel",
            "justify_items": null,
            "grid_row": null,
            "max_height": null,
            "align_content": null,
            "visibility": null,
            "align_self": null,
            "height": null,
            "min_height": null,
            "padding": null,
            "grid_auto_rows": null,
            "grid_gap": null,
            "max_width": null,
            "order": null,
            "_view_module_version": "1.2.0",
            "grid_template_areas": null,
            "object_position": null,
            "object_fit": null,
            "grid_auto_columns": null,
            "margin": null,
            "display": null,
            "left": null
          }
        },
        "de980f7405da4f35aaadae8971acbf98": {
          "model_module": "@jupyter-widgets/controls",
          "model_name": "FloatProgressModel",
          "state": {
            "_view_name": "ProgressView",
            "style": "IPY_MODEL_c5726c7c034b4497bf8aa379d652614a",
            "_dom_classes": [],
            "description": "Downloading: 100%",
            "_model_name": "FloatProgressModel",
            "bar_style": "success",
            "max": 231508,
            "_view_module": "@jupyter-widgets/controls",
            "_model_module_version": "1.5.0",
            "value": 231508,
            "_view_count": null,
            "_view_module_version": "1.5.0",
            "orientation": "horizontal",
            "min": 0,
            "description_tooltip": null,
            "_model_module": "@jupyter-widgets/controls",
            "layout": "IPY_MODEL_36b24751066f4d78b2a28130971a57e5"
          }
        },
        "da59417dff0d47959bf717289a41fa61": {
          "model_module": "@jupyter-widgets/controls",
          "model_name": "HTMLModel",
          "state": {
            "_view_name": "HTMLView",
            "style": "IPY_MODEL_514cf7091b1b463c9226b187f34b6345",
            "_dom_classes": [],
            "description": "",
            "_model_name": "HTMLModel",
            "placeholder": "​",
            "_view_module": "@jupyter-widgets/controls",
            "_model_module_version": "1.5.0",
            "value": " 232k/232k [00:01&lt;00:00, 141kB/s]",
            "_view_count": null,
            "_view_module_version": "1.5.0",
            "description_tooltip": null,
            "_model_module": "@jupyter-widgets/controls",
            "layout": "IPY_MODEL_72d8e6560f36409382e56ccb5fef4c21"
          }
        },
        "c5726c7c034b4497bf8aa379d652614a": {
          "model_module": "@jupyter-widgets/controls",
          "model_name": "ProgressStyleModel",
          "state": {
            "_view_name": "StyleView",
            "_model_name": "ProgressStyleModel",
            "description_width": "initial",
            "_view_module": "@jupyter-widgets/base",
            "_model_module_version": "1.5.0",
            "_view_count": null,
            "_view_module_version": "1.2.0",
            "bar_color": null,
            "_model_module": "@jupyter-widgets/controls"
          }
        },
        "36b24751066f4d78b2a28130971a57e5": {
          "model_module": "@jupyter-widgets/base",
          "model_name": "LayoutModel",
          "state": {
            "_view_name": "LayoutView",
            "grid_template_rows": null,
            "right": null,
            "justify_content": null,
            "_view_module": "@jupyter-widgets/base",
            "overflow": null,
            "_model_module_version": "1.2.0",
            "_view_count": null,
            "flex_flow": null,
            "width": null,
            "min_width": null,
            "border": null,
            "align_items": null,
            "bottom": null,
            "_model_module": "@jupyter-widgets/base",
            "top": null,
            "grid_column": null,
            "overflow_y": null,
            "overflow_x": null,
            "grid_auto_flow": null,
            "grid_area": null,
            "grid_template_columns": null,
            "flex": null,
            "_model_name": "LayoutModel",
            "justify_items": null,
            "grid_row": null,
            "max_height": null,
            "align_content": null,
            "visibility": null,
            "align_self": null,
            "height": null,
            "min_height": null,
            "padding": null,
            "grid_auto_rows": null,
            "grid_gap": null,
            "max_width": null,
            "order": null,
            "_view_module_version": "1.2.0",
            "grid_template_areas": null,
            "object_position": null,
            "object_fit": null,
            "grid_auto_columns": null,
            "margin": null,
            "display": null,
            "left": null
          }
        },
        "514cf7091b1b463c9226b187f34b6345": {
          "model_module": "@jupyter-widgets/controls",
          "model_name": "DescriptionStyleModel",
          "state": {
            "_view_name": "StyleView",
            "_model_name": "DescriptionStyleModel",
            "description_width": "",
            "_view_module": "@jupyter-widgets/base",
            "_model_module_version": "1.5.0",
            "_view_count": null,
            "_view_module_version": "1.2.0",
            "_model_module": "@jupyter-widgets/controls"
          }
        },
        "72d8e6560f36409382e56ccb5fef4c21": {
          "model_module": "@jupyter-widgets/base",
          "model_name": "LayoutModel",
          "state": {
            "_view_name": "LayoutView",
            "grid_template_rows": null,
            "right": null,
            "justify_content": null,
            "_view_module": "@jupyter-widgets/base",
            "overflow": null,
            "_model_module_version": "1.2.0",
            "_view_count": null,
            "flex_flow": null,
            "width": null,
            "min_width": null,
            "border": null,
            "align_items": null,
            "bottom": null,
            "_model_module": "@jupyter-widgets/base",
            "top": null,
            "grid_column": null,
            "overflow_y": null,
            "overflow_x": null,
            "grid_auto_flow": null,
            "grid_area": null,
            "grid_template_columns": null,
            "flex": null,
            "_model_name": "LayoutModel",
            "justify_items": null,
            "grid_row": null,
            "max_height": null,
            "align_content": null,
            "visibility": null,
            "align_self": null,
            "height": null,
            "min_height": null,
            "padding": null,
            "grid_auto_rows": null,
            "grid_gap": null,
            "max_width": null,
            "order": null,
            "_view_module_version": "1.2.0",
            "grid_template_areas": null,
            "object_position": null,
            "object_fit": null,
            "grid_auto_columns": null,
            "margin": null,
            "display": null,
            "left": null
          }
        },
        "93cf2b393c6a4e54950f20991f372ce3": {
          "model_module": "@jupyter-widgets/controls",
          "model_name": "HBoxModel",
          "state": {
            "_view_name": "HBoxView",
            "_dom_classes": [],
            "_model_name": "HBoxModel",
            "_view_module": "@jupyter-widgets/controls",
            "_model_module_version": "1.5.0",
            "_view_count": null,
            "_view_module_version": "1.5.0",
            "box_style": "",
            "layout": "IPY_MODEL_88ebd96b2b8346588d641ca306ab5b11",
            "_model_module": "@jupyter-widgets/controls",
            "children": [
              "IPY_MODEL_c73d678c81304e57ae261e0c23e2aa95",
              "IPY_MODEL_f6cb09e59f3847f5b6c92051f81bb4a0"
            ]
          }
        },
        "88ebd96b2b8346588d641ca306ab5b11": {
          "model_module": "@jupyter-widgets/base",
          "model_name": "LayoutModel",
          "state": {
            "_view_name": "LayoutView",
            "grid_template_rows": null,
            "right": null,
            "justify_content": null,
            "_view_module": "@jupyter-widgets/base",
            "overflow": null,
            "_model_module_version": "1.2.0",
            "_view_count": null,
            "flex_flow": null,
            "width": null,
            "min_width": null,
            "border": null,
            "align_items": null,
            "bottom": null,
            "_model_module": "@jupyter-widgets/base",
            "top": null,
            "grid_column": null,
            "overflow_y": null,
            "overflow_x": null,
            "grid_auto_flow": null,
            "grid_area": null,
            "grid_template_columns": null,
            "flex": null,
            "_model_name": "LayoutModel",
            "justify_items": null,
            "grid_row": null,
            "max_height": null,
            "align_content": null,
            "visibility": null,
            "align_self": null,
            "height": null,
            "min_height": null,
            "padding": null,
            "grid_auto_rows": null,
            "grid_gap": null,
            "max_width": null,
            "order": null,
            "_view_module_version": "1.2.0",
            "grid_template_areas": null,
            "object_position": null,
            "object_fit": null,
            "grid_auto_columns": null,
            "margin": null,
            "display": null,
            "left": null
          }
        },
        "c73d678c81304e57ae261e0c23e2aa95": {
          "model_module": "@jupyter-widgets/controls",
          "model_name": "FloatProgressModel",
          "state": {
            "_view_name": "ProgressView",
            "style": "IPY_MODEL_f8cb6d51f41149dab304a8644f03ffe8",
            "_dom_classes": [],
            "description": "Downloading: 100%",
            "_model_name": "FloatProgressModel",
            "bar_style": "success",
            "max": 48,
            "_view_module": "@jupyter-widgets/controls",
            "_model_module_version": "1.5.0",
            "value": 48,
            "_view_count": null,
            "_view_module_version": "1.5.0",
            "orientation": "horizontal",
            "min": 0,
            "description_tooltip": null,
            "_model_module": "@jupyter-widgets/controls",
            "layout": "IPY_MODEL_b58a412d1ded4bf194dd9d7e5b264074"
          }
        },
        "f6cb09e59f3847f5b6c92051f81bb4a0": {
          "model_module": "@jupyter-widgets/controls",
          "model_name": "HTMLModel",
          "state": {
            "_view_name": "HTMLView",
            "style": "IPY_MODEL_ab62f58fb6d74c75b1c468c80b9f14af",
            "_dom_classes": [],
            "description": "",
            "_model_name": "HTMLModel",
            "placeholder": "​",
            "_view_module": "@jupyter-widgets/controls",
            "_model_module_version": "1.5.0",
            "value": " 48.0/48.0 [00:00&lt;00:00, 566B/s]",
            "_view_count": null,
            "_view_module_version": "1.5.0",
            "description_tooltip": null,
            "_model_module": "@jupyter-widgets/controls",
            "layout": "IPY_MODEL_551ece56f0f84d6fa8e494b645138407"
          }
        },
        "f8cb6d51f41149dab304a8644f03ffe8": {
          "model_module": "@jupyter-widgets/controls",
          "model_name": "ProgressStyleModel",
          "state": {
            "_view_name": "StyleView",
            "_model_name": "ProgressStyleModel",
            "description_width": "initial",
            "_view_module": "@jupyter-widgets/base",
            "_model_module_version": "1.5.0",
            "_view_count": null,
            "_view_module_version": "1.2.0",
            "bar_color": null,
            "_model_module": "@jupyter-widgets/controls"
          }
        },
        "b58a412d1ded4bf194dd9d7e5b264074": {
          "model_module": "@jupyter-widgets/base",
          "model_name": "LayoutModel",
          "state": {
            "_view_name": "LayoutView",
            "grid_template_rows": null,
            "right": null,
            "justify_content": null,
            "_view_module": "@jupyter-widgets/base",
            "overflow": null,
            "_model_module_version": "1.2.0",
            "_view_count": null,
            "flex_flow": null,
            "width": null,
            "min_width": null,
            "border": null,
            "align_items": null,
            "bottom": null,
            "_model_module": "@jupyter-widgets/base",
            "top": null,
            "grid_column": null,
            "overflow_y": null,
            "overflow_x": null,
            "grid_auto_flow": null,
            "grid_area": null,
            "grid_template_columns": null,
            "flex": null,
            "_model_name": "LayoutModel",
            "justify_items": null,
            "grid_row": null,
            "max_height": null,
            "align_content": null,
            "visibility": null,
            "align_self": null,
            "height": null,
            "min_height": null,
            "padding": null,
            "grid_auto_rows": null,
            "grid_gap": null,
            "max_width": null,
            "order": null,
            "_view_module_version": "1.2.0",
            "grid_template_areas": null,
            "object_position": null,
            "object_fit": null,
            "grid_auto_columns": null,
            "margin": null,
            "display": null,
            "left": null
          }
        },
        "ab62f58fb6d74c75b1c468c80b9f14af": {
          "model_module": "@jupyter-widgets/controls",
          "model_name": "DescriptionStyleModel",
          "state": {
            "_view_name": "StyleView",
            "_model_name": "DescriptionStyleModel",
            "description_width": "",
            "_view_module": "@jupyter-widgets/base",
            "_model_module_version": "1.5.0",
            "_view_count": null,
            "_view_module_version": "1.2.0",
            "_model_module": "@jupyter-widgets/controls"
          }
        },
        "551ece56f0f84d6fa8e494b645138407": {
          "model_module": "@jupyter-widgets/base",
          "model_name": "LayoutModel",
          "state": {
            "_view_name": "LayoutView",
            "grid_template_rows": null,
            "right": null,
            "justify_content": null,
            "_view_module": "@jupyter-widgets/base",
            "overflow": null,
            "_model_module_version": "1.2.0",
            "_view_count": null,
            "flex_flow": null,
            "width": null,
            "min_width": null,
            "border": null,
            "align_items": null,
            "bottom": null,
            "_model_module": "@jupyter-widgets/base",
            "top": null,
            "grid_column": null,
            "overflow_y": null,
            "overflow_x": null,
            "grid_auto_flow": null,
            "grid_area": null,
            "grid_template_columns": null,
            "flex": null,
            "_model_name": "LayoutModel",
            "justify_items": null,
            "grid_row": null,
            "max_height": null,
            "align_content": null,
            "visibility": null,
            "align_self": null,
            "height": null,
            "min_height": null,
            "padding": null,
            "grid_auto_rows": null,
            "grid_gap": null,
            "max_width": null,
            "order": null,
            "_view_module_version": "1.2.0",
            "grid_template_areas": null,
            "object_position": null,
            "object_fit": null,
            "grid_auto_columns": null,
            "margin": null,
            "display": null,
            "left": null
          }
        }
      }
    }
  },
  "cells": [
    {
      "cell_type": "markdown",
      "metadata": {
        "id": "O7F36hY5zjeH"
      },
      "source": [
        "# Import Modules"
      ]
    },
    {
      "cell_type": "code",
      "metadata": {
        "colab": {
          "base_uri": "https://localhost:8080/"
        },
        "id": "Oe_BOaWXyd9P",
        "outputId": "ecf32e86-1714-4792-eaec-08a44bc9445c"
      },
      "source": [
        "%%shell\n",
        "pip -q install transformers\n",
        "pip -q install tokenizers"
      ],
      "execution_count": 1,
      "outputs": [
        {
          "output_type": "stream",
          "text": [
            "\u001b[K     |████████████████████████████████| 2.5MB 4.2MB/s \n",
            "\u001b[K     |████████████████████████████████| 901kB 27.3MB/s \n",
            "\u001b[K     |████████████████████████████████| 3.3MB 37.8MB/s \n",
            "\u001b[?25h"
          ],
          "name": "stdout"
        },
        {
          "output_type": "execute_result",
          "data": {
            "text/plain": [
              ""
            ]
          },
          "metadata": {
            "tags": []
          },
          "execution_count": 1
        }
      ]
    },
    {
      "cell_type": "code",
      "metadata": {
        "id": "4WPebVR40WIk"
      },
      "source": [
        "import torch\n",
        "import numpy as np\n",
        "import pandas as pd\n",
        "from collections import Counter\n",
        "from google.colab import drive\n",
        "\n",
        "from transformers import pipeline\n",
        "from transformers import TrainingArguments, Trainer\n",
        "from transformers import AutoTokenizer, AutoModelForSequenceClassification, BertTokenizer\n",
        "from transformers import EarlyStoppingCallback\n",
        "from tensorflow.nn import softmax\n",
        "\n",
        "from sklearn.model_selection import train_test_split\n",
        "from sklearn.metrics import accuracy_score, recall_score, precision_score, f1_score\n",
        "from sklearn.datasets import fetch_20newsgroups\n",
        "\n",
        "import warnings"
      ],
      "execution_count": 2,
      "outputs": []
    },
    {
      "cell_type": "markdown",
      "metadata": {
        "id": "I3w_qD5dEWXJ"
      },
      "source": [
        "# Helper Functions"
      ]
    },
    {
      "cell_type": "code",
      "metadata": {
        "id": "ASEiAWd32sJV"
      },
      "source": [
        "class Dataset(torch.utils.data.Dataset):\n",
        "    def __init__(self, encodings, labels=None):\n",
        "        self.encodings = encodings\n",
        "        self.labels = labels\n",
        "\n",
        "    def __getitem__(self, idx):\n",
        "        item = {key: torch.tensor(val[idx]) for key, val in self.encodings.items()}\n",
        "        if self.labels is not None:\n",
        "            item[\"labels\"] = torch.tensor(self.labels[idx])\n",
        "        return item\n",
        "\n",
        "    def __len__(self):\n",
        "        return len(self.encodings[\"input_ids\"])"
      ],
      "execution_count": 3,
      "outputs": []
    },
    {
      "cell_type": "code",
      "metadata": {
        "id": "3ShupY-o23UA"
      },
      "source": [
        "def model_init():\n",
        "    return AutoModelForSequenceClassification.from_pretrained(PRETRAINED_MODEL_NAME, num_labels=NUM_LABELS)\n",
        "\n",
        "def compute_metrics(p):\n",
        "    pred, labels = p\n",
        "    pred = np.argmax(pred, axis=1)\n",
        "\n",
        "    # metrics algo\n",
        "    avg = 'binary' if NUM_LABELS == 2 else 'macro'\n",
        "    accuracy = accuracy_score(y_true=labels, y_pred=pred)\n",
        "    recall = recall_score(y_true=labels, y_pred=pred, average=avg)\n",
        "    precision = precision_score(y_true=labels, y_pred=pred, average=avg)\n",
        "    f1 = f1_score(y_true=labels, y_pred=pred, average=avg)\n",
        "\n",
        "    return {\"accuracy\": accuracy, \n",
        "            \"precision\": precision, \n",
        "            \"recall\": recall, \n",
        "            \"f1\": f1}"
      ],
      "execution_count": 4,
      "outputs": []
    },
    {
      "cell_type": "markdown",
      "metadata": {
        "id": "TOOzdh-h01cv"
      },
      "source": [
        "# Load Dataset"
      ]
    },
    {
      "cell_type": "code",
      "metadata": {
        "id": "FXLFrYeh1zkn"
      },
      "source": [
        "neu_sent = \"Alvin is eating Sashimi in the living room\"\n",
        "pos_sent = \"I don't hate speaking with him\"\n",
        "neg_sent = \"His attitude is horrible\""
      ],
      "execution_count": 5,
      "outputs": []
    },
    {
      "cell_type": "code",
      "metadata": {
        "colab": {
          "base_uri": "https://localhost:8080/"
        },
        "id": "CncLekp9040g",
        "outputId": "e412d7d3-638c-4ab8-828b-446bda1906be"
      },
      "source": [
        "categories = ['sci.electronics', 'sci.med', 'sci.space', 'sci.crypt']\n",
        "data = fetch_20newsgroups(subset='all', categories=categories, shuffle=True, random_state=42)  \n",
        "NUM_LABELS = len(Counter(data[\"target\"]))"
      ],
      "execution_count": 6,
      "outputs": [
        {
          "output_type": "stream",
          "text": [
            "Downloading 20news dataset. This may take a few minutes.\n",
            "Downloading dataset from https://ndownloader.figshare.com/files/5975967 (14 MB)\n"
          ],
          "name": "stderr"
        }
      ]
    },
    {
      "cell_type": "code",
      "metadata": {
        "colab": {
          "base_uri": "https://localhost:8080/"
        },
        "id": "e6IyWxWzHgnA",
        "outputId": "5bb28c5c-268c-4cdf-98ea-300e453d8143"
      },
      "source": [
        "LABELS = {0 : 'sci.crypt', 1 : 'sci.electronics', 2 : 'sci.med', 3 : 'sci.space'}\n",
        "\n",
        "# ['data', 'filenames', 'target_names', 'target', 'DESCR']\n",
        "print(data['target_names'])\n",
        "print(set(data['target']))\n",
        "\n",
        "sample_y = [0, 1, 2, 3]\n",
        "sample_x = []\n",
        "for y in sample_y:\n",
        "    idx = np.where(data['target'] == y)[0][0]\n",
        "    sample_x.append(data['data'][idx])"
      ],
      "execution_count": 7,
      "outputs": [
        {
          "output_type": "stream",
          "text": [
            "['sci.crypt', 'sci.electronics', 'sci.med', 'sci.space']\n",
            "{0, 1, 2, 3}\n"
          ],
          "name": "stdout"
        }
      ]
    },
    {
      "cell_type": "markdown",
      "metadata": {
        "id": "J1xSye32zhPN"
      },
      "source": [
        "# Build Sample Model"
      ]
    },
    {
      "cell_type": "markdown",
      "metadata": {
        "id": "6P8FNSSs2K0B"
      },
      "source": [
        "## M1 - Sentimental Analysis"
      ]
    },
    {
      "cell_type": "code",
      "metadata": {
        "colab": {
          "base_uri": "https://localhost:8080/",
          "height": 242,
          "referenced_widgets": [
            "e688f0ac7bab47d88a34b3aaf9ad4590",
            "31c38f147ba143098a476d1f12016251",
            "fb77322c9cfc4732824d998a538a85fc",
            "c5a6da0483df4ab7a53c0395113922b0",
            "9148474abe1240ceb627a22964ca047f",
            "1b235ae62c7342249d703d39616ec2f7",
            "7e81cdfa4cf642ffa53589e53856e190",
            "e7d95336d5ce4774814c5f4d6430b44a",
            "d82fac5ca0094077ba27c161db0b6c87",
            "f18b5a2803b1487f9bcc003b4ff3ae1f",
            "189fb46a2e7e497187a2182fa1614c1a",
            "92ff90807d0942698e5d62795d17ae6a",
            "dd496469874c4e2ea7d27e3f42892a0c",
            "e05f69c6664442f49ab77cabc7afa408",
            "e04ac558ec184860b25a81cbb23ec280",
            "40024928007e458b80ddd7aebfd1aef2",
            "204b9ad7043a4719aafe9cd8047ef621",
            "08d82d80991c4648b0ff3fb0bc45496e",
            "de980f7405da4f35aaadae8971acbf98",
            "da59417dff0d47959bf717289a41fa61",
            "c5726c7c034b4497bf8aa379d652614a",
            "36b24751066f4d78b2a28130971a57e5",
            "514cf7091b1b463c9226b187f34b6345",
            "72d8e6560f36409382e56ccb5fef4c21",
            "93cf2b393c6a4e54950f20991f372ce3",
            "88ebd96b2b8346588d641ca306ab5b11",
            "c73d678c81304e57ae261e0c23e2aa95",
            "f6cb09e59f3847f5b6c92051f81bb4a0",
            "f8cb6d51f41149dab304a8644f03ffe8",
            "b58a412d1ded4bf194dd9d7e5b264074",
            "ab62f58fb6d74c75b1c468c80b9f14af",
            "551ece56f0f84d6fa8e494b645138407"
          ]
        },
        "id": "o3TSGlWm00z2",
        "outputId": "782e420f-9aff-4955-a8ab-2d8394820c4e"
      },
      "source": [
        "model = pipeline('sentiment-analysis')\n",
        "print(model(r\"I don't hate speaking with him\"))\n",
        "print(model(r\"His attitude is horrible\"))"
      ],
      "execution_count": null,
      "outputs": [
        {
          "output_type": "display_data",
          "data": {
            "application/vnd.jupyter.widget-view+json": {
              "model_id": "e688f0ac7bab47d88a34b3aaf9ad4590",
              "version_minor": 0,
              "version_major": 2
            },
            "text/plain": [
              "HBox(children=(FloatProgress(value=0.0, description='Downloading', max=629.0, style=ProgressStyle(description_…"
            ]
          },
          "metadata": {
            "tags": []
          }
        },
        {
          "output_type": "stream",
          "text": [
            "\n"
          ],
          "name": "stdout"
        },
        {
          "output_type": "display_data",
          "data": {
            "application/vnd.jupyter.widget-view+json": {
              "model_id": "d82fac5ca0094077ba27c161db0b6c87",
              "version_minor": 0,
              "version_major": 2
            },
            "text/plain": [
              "HBox(children=(FloatProgress(value=0.0, description='Downloading', max=267844284.0, style=ProgressStyle(descri…"
            ]
          },
          "metadata": {
            "tags": []
          }
        },
        {
          "output_type": "stream",
          "text": [
            "\n"
          ],
          "name": "stdout"
        },
        {
          "output_type": "display_data",
          "data": {
            "application/vnd.jupyter.widget-view+json": {
              "model_id": "204b9ad7043a4719aafe9cd8047ef621",
              "version_minor": 0,
              "version_major": 2
            },
            "text/plain": [
              "HBox(children=(FloatProgress(value=0.0, description='Downloading', max=231508.0, style=ProgressStyle(descripti…"
            ]
          },
          "metadata": {
            "tags": []
          }
        },
        {
          "output_type": "stream",
          "text": [
            "\n"
          ],
          "name": "stdout"
        },
        {
          "output_type": "display_data",
          "data": {
            "application/vnd.jupyter.widget-view+json": {
              "model_id": "93cf2b393c6a4e54950f20991f372ce3",
              "version_minor": 0,
              "version_major": 2
            },
            "text/plain": [
              "HBox(children=(FloatProgress(value=0.0, description='Downloading', max=48.0, style=ProgressStyle(description_w…"
            ]
          },
          "metadata": {
            "tags": []
          }
        },
        {
          "output_type": "stream",
          "text": [
            "\n",
            "[{'label': 'POSITIVE', 'score': 0.9988293051719666}]\n",
            "[{'label': 'NEGATIVE', 'score': 0.9996873736381531}]\n"
          ],
          "name": "stdout"
        }
      ]
    },
    {
      "cell_type": "markdown",
      "metadata": {
        "id": "J147jbF_2WvC"
      },
      "source": [
        "## M2 - Custom Text Classification"
      ]
    },
    {
      "cell_type": "code",
      "metadata": {
        "id": "ZFKJTQmQziym"
      },
      "source": [
        "%%time\n",
        "PRETRAINED_MODEL_NAME = 'bert-base-un   '\n",
        "tokenizer = AutoTokenizer.from_pretrained(PRETRAINED_MODEL_NAME)\n",
        "\n",
        "X = data[\"data\"]\n",
        "y = data[\"target\"]\n",
        "X_train_val, X_test, y_train_val, y_test = train_test_split(X, y, test_size=0.2, random_state=42)\n",
        "X_train, X_val, y_train, y_val = train_test_split(X_train_val, y_train_val, test_size=0.2, random_state=42)\n",
        "\n",
        "X_train_tokenized = tokenizer(X_train, padding=True, truncation=True, max_length=512)\n",
        "X_val_tokenized = tokenizer(X_val, padding=True, truncation=True, max_length=512)\n",
        "X_test_tokenized = tokenizer(X_test, padding=True, truncation=True, max_length=512)\n",
        "\n",
        "\n",
        "train_dataset = Dataset(X_train_tokenized, y_train)\n",
        "val_dataset = Dataset(X_val_tokenized, y_val)\n",
        "test_dataset = Dataset(X_test_tokenized)\n",
        "\n",
        "args = TrainingArguments(\n",
        "                output_dir=\"model_output\",\n",
        "                evaluation_strategy=\"epoch\",\n",
        "                per_device_train_batch_size=8,\n",
        "                per_device_eval_batch_size=8,\n",
        "                num_train_epochs=3,\n",
        "                seed=42,\n",
        "                load_best_model_at_end=True\n",
        "            )\n",
        "        \n",
        "\n",
        "trainer = Trainer(\n",
        "                model_init=model_init,\n",
        "                args=args,\n",
        "                train_dataset=train_dataset,\n",
        "                eval_dataset=val_dataset,\n",
        "                compute_metrics=compute_metrics,\n",
        "                # callbacks=[EarlyStoppingCallback(early_stopping_patience=3)],\n",
        "            )\n",
        "\n",
        "trainer.train()"
      ],
      "execution_count": null,
      "outputs": []
    },
    {
      "cell_type": "code",
      "metadata": {
        "colab": {
          "base_uri": "https://localhost:8080/",
          "height": 53
        },
        "id": "V_OSaCH_4Wan",
        "outputId": "fa734427-10de-44c2-f084-d7bb695b72b0"
      },
      "source": [
        "raw_pred, _, _ = trainer.predict(test_dataset)\n",
        "y_pred = np.argmax(raw_pred, axis=1)\n",
        "accuracy_score(y_test, y_pred)"
      ],
      "execution_count": null,
      "outputs": [
        {
          "output_type": "display_data",
          "data": {
            "text/html": [
              "\n",
              "    <div>\n",
              "      \n",
              "      <progress value='99' max='99' style='width:300px; height:20px; vertical-align: middle;'></progress>\n",
              "      [99/99 00:29]\n",
              "    </div>\n",
              "    "
            ],
            "text/plain": [
              "<IPython.core.display.HTML object>"
            ]
          },
          "metadata": {
            "tags": []
          }
        },
        {
          "output_type": "execute_result",
          "data": {
            "text/plain": [
              "0.9797724399494311"
            ]
          },
          "metadata": {
            "tags": []
          },
          "execution_count": 9
        }
      ]
    },
    {
      "cell_type": "markdown",
      "metadata": {
        "id": "mK_W-9ZjNaEo"
      },
      "source": [
        "# Save & Load Model"
      ]
    },
    {
      "cell_type": "code",
      "metadata": {
        "colab": {
          "base_uri": "https://localhost:8080/"
        },
        "id": "ll5YeIATSahI",
        "outputId": "c9b97b5c-6b63-4a3f-dec4-de960d7bc6a8"
      },
      "source": [
        "drive.mount('gdrive')"
      ],
      "execution_count": 8,
      "outputs": [
        {
          "output_type": "stream",
          "text": [
            "Mounted at gdrive\n"
          ],
          "name": "stdout"
        }
      ]
    },
    {
      "cell_type": "code",
      "metadata": {
        "colab": {
          "base_uri": "https://localhost:8080/"
        },
        "id": "BLQuJGIESnUm",
        "outputId": "c0ccad84-c83c-46b1-95c4-c3ec17841537"
      },
      "source": [
        "# Sentimental Analysis\n",
        "model.save_pretrained('./gdrive/MyDrive/00 Temp/hf_dep/hf_m1_sentimental_analysis')\n",
        "\n",
        "# Text Classification\n",
        "trainer.model.save_pretrained('./gdrive/MyDrive/00 Temp/hf_dep/hf_m2_text_classification')\n",
        "tokenizer.save_pretrained('./gdrive/MyDrive/00 Temp/hf_dep/hf_t2_text_classification')"
      ],
      "execution_count": null,
      "outputs": [
        {
          "output_type": "execute_result",
          "data": {
            "text/plain": [
              "('./gdrive/MyDrive/00 Temp./hf_dep/hf_t2_text_classification/tokenizer_config.json',\n",
              " './gdrive/MyDrive/00 Temp./hf_dep/hf_t2_text_classification/special_tokens_map.json',\n",
              " './gdrive/MyDrive/00 Temp./hf_dep/hf_t2_text_classification/vocab.txt',\n",
              " './gdrive/MyDrive/00 Temp./hf_dep/hf_t2_text_classification/added_tokens.json',\n",
              " './gdrive/MyDrive/00 Temp./hf_dep/hf_t2_text_classification/tokenizer.json')"
            ]
          },
          "metadata": {
            "tags": []
          },
          "execution_count": 109
        }
      ]
    },
    {
      "cell_type": "code",
      "metadata": {
        "colab": {
          "base_uri": "https://localhost:8080/"
        },
        "id": "QAz_6-QH8grw",
        "outputId": "4ae57d91-6f67-4cf3-8bae-29117bf65954"
      },
      "source": [
        "loaded_m1.tokenizer"
      ],
      "execution_count": 58,
      "outputs": [
        {
          "output_type": "execute_result",
          "data": {
            "text/plain": [
              "PreTrainedTokenizerFast(name_or_path='./gdrive/MyDrive/00 Temp/hf_dep/hf_m1_sentimental_analysis', vocab_size=30522, model_max_len=512, is_fast=True, padding_side='right', special_tokens={'unk_token': '[UNK]', 'sep_token': '[SEP]', 'pad_token': '[PAD]', 'cls_token': '[CLS]', 'mask_token': '[MASK]'})"
            ]
          },
          "metadata": {
            "tags": []
          },
          "execution_count": 58
        }
      ]
    },
    {
      "cell_type": "code",
      "metadata": {
        "id": "JCIsIojA_EfP"
      },
      "source": [
        "loaded_m1 = pipeline(task='sentiment-analysis', model='./gdrive/MyDrive/00 Temp/hf_dep/hf_m1_sentimental_analysis')\n",
        "\n",
        "loaded_m2 = AutoModelForSequenceClassification.from_pretrained('./gdrive/MyDrive/00 Temp/hf_dep/hf_m2_text_classification', num_labels=NUM_LABELS)\n",
        "loaded_t2 = BertTokenizer.from_pretrained('./gdrive/MyDrive/00 Temp/hf_dep//hf_t2_text_classification/')\n",
        "# tr2 = Trainer(model=loaded_m2)"
      ],
      "execution_count": 9,
      "outputs": []
    },
    {
      "cell_type": "code",
      "metadata": {
        "colab": {
          "base_uri": "https://localhost:8080/"
        },
        "id": "68vqC9C3XADb",
        "outputId": "b44c43d8-9890-47eb-b46e-36e70139cb40"
      },
      "source": [
        "loaded_m1(pos_sent)"
      ],
      "execution_count": 8,
      "outputs": [
        {
          "output_type": "execute_result",
          "data": {
            "text/plain": [
              "[{'label': 'POSITIVE', 'score': 0.9988293051719666}]"
            ]
          },
          "metadata": {
            "tags": []
          },
          "execution_count": 8
        }
      ]
    },
    {
      "cell_type": "code",
      "metadata": {
        "colab": {
          "base_uri": "https://localhost:8080/",
          "height": 70
        },
        "id": "rWnVxq7hJh6M",
        "outputId": "7c795643-0c0b-4671-e99d-a17028eb36bd"
      },
      "source": [
        "def pred_msg_cat(x, loaded_t2, tr2):\n",
        "    predict_input = loaded_t2.encode_plus(x,\n",
        "                                    truncation=True,\n",
        "                                    max_length=512,\n",
        "                                    padding=True, return_tensors=\"pt\")\n",
        "    d2 = Dataset(predict_input)\n",
        "    tf_output = tr2.predict(d2)\n",
        "    tf_prediction = softmax(tf_output.predictions, axis=1).numpy()[0]\n",
        "    y_pred = tf_prediction.argmax()\n",
        "    y_prob = tf_prediction[y_pred]\n",
        "    return {\"prediction\" : y_pred, \"probability\" : y_prob}\n",
        "\n",
        "\n",
        "r = pred_msg_cat(sample_x, loaded_t2, tr2)\n",
        "print(r)\n",
        "print(f\"{r['prediction'] == sample_y}\")"
      ],
      "execution_count": 43,
      "outputs": [
        {
          "output_type": "display_data",
          "data": {
            "text/html": [
              "\n",
              "    <div>\n",
              "      \n",
              "      <progress value='14' max='1' style='width:300px; height:20px; vertical-align: middle;'></progress>\n",
              "      [1/1 59:21]\n",
              "    </div>\n",
              "    "
            ],
            "text/plain": [
              "<IPython.core.display.HTML object>"
            ]
          },
          "metadata": {
            "tags": []
          }
        },
        {
          "output_type": "stream",
          "text": [
            "{'prediction': 2, 'probability': 0.9995111}\n",
            "True\n"
          ],
          "name": "stdout"
        }
      ]
    },
    {
      "cell_type": "markdown",
      "metadata": {
        "id": "N0aBRWyu4dXw"
      },
      "source": [
        "# BentoML"
      ]
    },
    {
      "cell_type": "code",
      "metadata": {
        "colab": {
          "base_uri": "https://localhost:8080/"
        },
        "id": "sjIQX7V0aZ49",
        "outputId": "93823bbe-9eba-44b0-fda6-0f0e59ff86ed"
      },
      "source": [
        "# reload bento_service_m2 every time to ensure updates are recorded into module \n",
        "\n",
        "# https://ipython.org/ipython-doc/3/config/extensions/autoreload.html # %autoreload\n",
        "# %load_ext autoreload     \n",
        "# %autoreload 1\n",
        "# %aimport bento_service_m1\n",
        "# %aimport        \n",
        "\n",
        "# OR \n",
        "\n",
        "# import importlib\n",
        "# import bento_service_m1\n",
        "# importlib.reload(bento_service_m1)"
      ],
      "execution_count": 33,
      "outputs": [
        {
          "output_type": "stream",
          "text": [
            "[2021-06-21 06:02:28,485] WARNING - pip package requirement `bentoml==0.13.0` not found in current python environment\n"
          ],
          "name": "stdout"
        },
        {
          "output_type": "execute_result",
          "data": {
            "text/plain": [
              "<module 'bento_service_m1' from '/content/bento_service_m1.py'>"
            ]
          },
          "metadata": {
            "tags": []
          },
          "execution_count": 33
        }
      ]
    },
    {
      "cell_type": "code",
      "metadata": {
        "id": "se_cK60X_HT7"
      },
      "source": [
        "warnings.filterwarnings(\"ignore\")"
      ],
      "execution_count": 10,
      "outputs": []
    },
    {
      "cell_type": "code",
      "metadata": {
        "colab": {
          "base_uri": "https://localhost:8080/"
        },
        "id": "KOPJ7n4O8RVJ",
        "outputId": "5536ca87-e87e-4c33-d889-3b7c1a97c029"
      },
      "source": [
        "!pip -q install bentoml \"scikit-learn>=0.23.2\" \"urllib3==1.25.11\" \"folium==0.2.1\""
      ],
      "execution_count": 11,
      "outputs": [
        {
          "output_type": "stream",
          "text": [
            "\u001b[K     |████████████████████████████████| 5.0MB 4.2MB/s \n",
            "\u001b[K     |████████████████████████████████| 22.3MB 1.7MB/s \n",
            "\u001b[K     |████████████████████████████████| 133kB 58.5MB/s \n",
            "\u001b[K     |████████████████████████████████| 71kB 7.6MB/s \n",
            "\u001b[K     |████████████████████████████████| 112kB 46.8MB/s \n",
            "\u001b[K     |████████████████████████████████| 133kB 58.8MB/s \n",
            "\u001b[K     |████████████████████████████████| 133kB 54.8MB/s \n",
            "\u001b[K     |████████████████████████████████| 174kB 58.2MB/s \n",
            "\u001b[K     |████████████████████████████████| 1.3MB 39.9MB/s \n",
            "\u001b[K     |████████████████████████████████| 92kB 10.0MB/s \n",
            "\u001b[K     |████████████████████████████████| 81kB 9.1MB/s \n",
            "\u001b[K     |████████████████████████████████| 153kB 48.5MB/s \n",
            "\u001b[K     |████████████████████████████████| 3.2MB 34.2MB/s \n",
            "\u001b[K     |████████████████████████████████| 1.3MB 41.3MB/s \n",
            "\u001b[K     |████████████████████████████████| 71kB 8.4MB/s \n",
            "\u001b[?25h  Installing build dependencies ... \u001b[?25l\u001b[?25hdone\n",
            "  Getting requirements to build wheel ... \u001b[?25l\u001b[?25hdone\n",
            "    Preparing wheel metadata ... \u001b[?25l\u001b[?25hdone\n",
            "\u001b[K     |████████████████████████████████| 552kB 20.7MB/s \n",
            "\u001b[K     |████████████████████████████████| 7.6MB 39.8MB/s \n",
            "\u001b[K     |████████████████████████████████| 81kB 9.1MB/s \n",
            "\u001b[K     |████████████████████████████████| 81kB 8.9MB/s \n",
            "\u001b[K     |████████████████████████████████| 143kB 56.8MB/s \n",
            "\u001b[K     |████████████████████████████████| 296kB 47.5MB/s \n",
            "\u001b[K     |████████████████████████████████| 71kB 8.2MB/s \n",
            "\u001b[?25h  Building wheel for cerberus (PEP 517) ... \u001b[?25l\u001b[?25hdone\n",
            "  Building wheel for folium (setup.py) ... \u001b[?25l\u001b[?25hdone\n",
            "  Building wheel for sqlalchemy-utils (setup.py) ... \u001b[?25l\u001b[?25hdone\n",
            "  Building wheel for python-json-logger (setup.py) ... \u001b[?25l\u001b[?25hdone\n"
          ],
          "name": "stdout"
        }
      ]
    },
    {
      "cell_type": "markdown",
      "metadata": {
        "id": "_9cNXE5ZAFrX"
      },
      "source": [
        "## M1"
      ]
    },
    {
      "cell_type": "code",
      "metadata": {
        "id": "6R4GWC7F02h0",
        "colab": {
          "base_uri": "https://localhost:8080/"
        },
        "outputId": "b711736c-de7a-4039-a39d-ccb1b5a49033"
      },
      "source": [
        "%%writefile bento_service_m1.py\n",
        "import pandas as pd\n",
        "\n",
        "from bentoml import env, artifacts, api, BentoService\n",
        "from bentoml.adapters import DataframeInput, JsonInput\n",
        "from bentoml.frameworks.transformers import TransformersModelArtifact\n",
        "\n",
        "@env(infer_pip_packages=True)\n",
        "@artifacts([TransformersModelArtifact('m1')])\n",
        "class SentAnalServ(BentoService):\n",
        "    @api(input=DataframeInput(), batch=True)\n",
        "    def predict(self, df: pd.DataFrame):\n",
        "        model = self.artifacts.m1.get(\"model\")\n",
        "        texts = df.to_list()\n",
        "        return model(texts)"
      ],
      "execution_count": 21,
      "outputs": [
        {
          "output_type": "stream",
          "text": [
            "Writing bento_service_m1.py\n"
          ],
          "name": "stdout"
        }
      ]
    },
    {
      "cell_type": "markdown",
      "metadata": {
        "id": "3wVNIHwTSufT"
      },
      "source": [
        "### Test Serv - Local"
      ]
    },
    {
      "cell_type": "code",
      "metadata": {
        "colab": {
          "base_uri": "https://localhost:8080/"
        },
        "id": "Nt3myI9c-8DE",
        "outputId": "8ccc8225-ecec-4d68-de16-08861608d4c1"
      },
      "source": [
        "from bento_service_m1 import SentAnalServ\n",
        "sent_anal_serv = SentAnalServ()\n",
        "artifact = {\"model\": loaded_m1, \"tokenizer\": loaded_m1.tokenizer}\n",
        "sent_anal_serv.pack(\"m1\", artifact)\n",
        "\n",
        "saved_path = sent_anal_serv.save()    # save service to disk for deployment"
      ],
      "execution_count": 22,
      "outputs": [
        {
          "output_type": "stream",
          "text": [
            "[2021-06-21 06:33:13,369] WARNING - pip package requirement `bentoml==0.13.0` not found in current python environment\n",
            "[2021-06-21 06:33:16,737] INFO - BentoService bundle 'SentAnalServ:20210621063313_DB3392' saved to: /root/bentoml/repository/SentAnalServ/20210621063313_DB3392\n"
          ],
          "name": "stdout"
        }
      ]
    },
    {
      "cell_type": "code",
      "metadata": {
        "colab": {
          "base_uri": "https://localhost:8080/",
          "height": 138
        },
        "id": "hAdFRkh9-zmQ",
        "outputId": "1916fc32-4966-405d-e24e-ab03cae95526"
      },
      "source": [
        "df_test = pd.DataFrame({\"X\" : [pos_sent, neu_sent, neg_sent], \"y\" : [\"POSITIVE\", \"NEUTRAL\", \"NEGATIVE\"]})\n",
        "df_test"
      ],
      "execution_count": 23,
      "outputs": [
        {
          "output_type": "execute_result",
          "data": {
            "text/html": [
              "<div>\n",
              "<style scoped>\n",
              "    .dataframe tbody tr th:only-of-type {\n",
              "        vertical-align: middle;\n",
              "    }\n",
              "\n",
              "    .dataframe tbody tr th {\n",
              "        vertical-align: top;\n",
              "    }\n",
              "\n",
              "    .dataframe thead th {\n",
              "        text-align: right;\n",
              "    }\n",
              "</style>\n",
              "<table border=\"1\" class=\"dataframe\">\n",
              "  <thead>\n",
              "    <tr style=\"text-align: right;\">\n",
              "      <th></th>\n",
              "      <th>X</th>\n",
              "      <th>y</th>\n",
              "    </tr>\n",
              "  </thead>\n",
              "  <tbody>\n",
              "    <tr>\n",
              "      <th>0</th>\n",
              "      <td>I don't hate speaking with him</td>\n",
              "      <td>POSITIVE</td>\n",
              "    </tr>\n",
              "    <tr>\n",
              "      <th>1</th>\n",
              "      <td>Alvin is eating Sashimi in the living room</td>\n",
              "      <td>NEUTRAL</td>\n",
              "    </tr>\n",
              "    <tr>\n",
              "      <th>2</th>\n",
              "      <td>His attitude is horrible</td>\n",
              "      <td>NEGATIVE</td>\n",
              "    </tr>\n",
              "  </tbody>\n",
              "</table>\n",
              "</div>"
            ],
            "text/plain": [
              "                                            X         y\n",
              "0              I don't hate speaking with him  POSITIVE\n",
              "1  Alvin is eating Sashimi in the living room   NEUTRAL\n",
              "2                    His attitude is horrible  NEGATIVE"
            ]
          },
          "metadata": {
            "tags": []
          },
          "execution_count": 23
        }
      ]
    },
    {
      "cell_type": "code",
      "metadata": {
        "colab": {
          "base_uri": "https://localhost:8080/"
        },
        "id": "-6IndZDV8DCK",
        "outputId": "ace6022e-538c-4651-f3e5-c98ee803dbdb"
      },
      "source": [
        "sent_anal_serv.predict(df_test['X'])"
      ],
      "execution_count": 24,
      "outputs": [
        {
          "output_type": "execute_result",
          "data": {
            "text/plain": [
              "[{'label': 'POSITIVE', 'score': 0.9988293051719666},\n",
              " {'label': 'NEGATIVE', 'score': 0.7627997994422913},\n",
              " {'label': 'NEGATIVE', 'score': 0.9996873736381531}]"
            ]
          },
          "metadata": {
            "tags": []
          },
          "execution_count": 24
        }
      ]
    },
    {
      "cell_type": "markdown",
      "metadata": {
        "id": "8gQA6wYt3sZN"
      },
      "source": [
        "## M2"
      ]
    },
    {
      "cell_type": "code",
      "metadata": {
        "colab": {
          "base_uri": "https://localhost:8080/"
        },
        "id": "BTMJr5dNAHQ9",
        "outputId": "7fc77a6a-c7f4-4316-bccb-b14ce24c3306"
      },
      "source": [
        "%%writefile bento_service_m2.py\n",
        "import torch\n",
        "import pandas as pd\n",
        "from tensorflow.nn import softmax\n",
        "from transformers import Trainer\n",
        "\n",
        "from bentoml import env, artifacts, api, BentoService\n",
        "from bentoml.adapters import JsonInput, StringInput\n",
        "from bentoml.frameworks.transformers import TransformersModelArtifact\n",
        "\n",
        "class Dataset(torch.utils.data.Dataset):\n",
        "    def __init__(self, encodings, labels=None):\n",
        "        self.encodings = encodings\n",
        "        self.labels = labels\n",
        "\n",
        "    def __getitem__(self, idx):\n",
        "        item = {key: torch.tensor(val[idx]) for key, val in self.encodings.items()}\n",
        "        if self.labels is not None:\n",
        "            item[\"labels\"] = torch.tensor(self.labels[idx])\n",
        "        return item\n",
        "\n",
        "    def __len__(self):\n",
        "        return len(self.encodings[\"input_ids\"])\n",
        "\n",
        "\n",
        "@env(infer_pip_packages=True) # pip_packages=[\"transformers==3.1.0\", \"torch==1.6.0\"] OR # requirements_txt_file=\"requirements.txt\"\n",
        "@artifacts([TransformersModelArtifact(\"m2\")])\n",
        "# @web_static_content('./static')       # to add custom web static content; e.g. Iris classifier: https://raw.githubusercontent.com/bentoml/gallery/master/scikit-learn/iris-classifier/static.tar.xz (https://colab.research.google.com/drive/1RNIgMBemK2O9jsLyvNqgKS6sZqCuCDif?authuser=1#scrollTo=8C86FGNZn3-s)\n",
        "class MsgCatServ(BentoService):\n",
        "    @api(input=JsonInput(), batch=False)\n",
        "    def predict(self, msgs):\n",
        "        model = self.artifacts.m2.get(\"model\")\n",
        "        tokenizer = self.artifacts.m2.get(\"tokenizer\")\n",
        "\n",
        "        y_preds = []\n",
        "        y_probs = []\n",
        "        LABELS = {0 : 'sci.crypt', 1 : 'sci.electronics', 2 : 'sci.med', 3 : 'sci.space'}\n",
        "\n",
        "        for msg in msgs:\n",
        "            tokenized_msg = tokenizer.encode_plus(msg,\n",
        "                                                    truncation=True,\n",
        "                                                    max_length=512,\n",
        "                                                    padding=True, return_tensors=\"pt\")\n",
        "            i = Dataset(tokenized_msg)\n",
        "            \n",
        "            tr = Trainer(model=model)\n",
        "            o = tr.predict(i)\n",
        "            o_pred = softmax(o.predictions, axis=1).numpy()[0]\n",
        "            y_preds.append(LABELS[o_pred.argmax()])\n",
        "            y_probs.append(o_pred.max())\n",
        "        output = {\"result\" : y_preds, \"probability\" : y_probs}\n",
        "        return output"
      ],
      "execution_count": 12,
      "outputs": [
        {
          "output_type": "stream",
          "text": [
            "Writing bento_service_m2.py\n"
          ],
          "name": "stdout"
        }
      ]
    },
    {
      "cell_type": "markdown",
      "metadata": {
        "id": "i_gx4YT9-j4n"
      },
      "source": [
        "### Test Serv - Local"
      ]
    },
    {
      "cell_type": "code",
      "metadata": {
        "colab": {
          "base_uri": "https://localhost:8080/"
        },
        "id": "PQ3v428y8Mpr",
        "outputId": "d7fc648b-b37c-474c-f1af-74261fbcf01b"
      },
      "source": [
        "from bento_service_m2 import MsgCatServ\n",
        "msg_classif_serv = MsgCatServ()\n",
        "artifact = {\"model\": loaded_m2, \"tokenizer\": loaded_t2}\n",
        "msg_classif_serv.pack(\"m2\", artifact)\n",
        "saved_path = msg_classif_serv.save()"
      ],
      "execution_count": 38,
      "outputs": [
        {
          "output_type": "stream",
          "text": [
            "[2021-06-21 06:58:06,563] WARNING - pip package requirement xgboost already exist\n",
            "[2021-06-21 06:58:11,192] INFO - BentoService bundle 'MsgCatServ:20210621065806_48EE89' saved to: /root/bentoml/repository/MsgCatServ/20210621065806_48EE89\n"
          ],
          "name": "stdout"
        }
      ]
    },
    {
      "cell_type": "code",
      "metadata": {
        "colab": {
          "base_uri": "https://localhost:8080/",
          "height": 130
        },
        "id": "YX29SfWHkPVg",
        "outputId": "19c80dbe-ab50-46b6-846d-42c21e306673"
      },
      "source": [
        "y_pred = msg_classif_serv.predict(sample_x)\n",
        "print(y_pred)\n",
        "\n",
        "y_test = [LABELS[y] for y in sample_y]\n",
        "print(y_test)"
      ],
      "execution_count": 14,
      "outputs": [
        {
          "output_type": "display_data",
          "data": {
            "text/html": [
              "\n",
              "    <div>\n",
              "      \n",
              "      <progress value='1' max='1' style='width:300px; height:20px; vertical-align: middle;'></progress>\n",
              "      [1/1 : < :]\n",
              "    </div>\n",
              "    "
            ],
            "text/plain": [
              "<IPython.core.display.HTML object>"
            ]
          },
          "metadata": {
            "tags": []
          }
        },
        {
          "output_type": "display_data",
          "data": {
            "text/html": [
              "\n",
              "    <div>\n",
              "      \n",
              "      <progress value='1' max='1' style='width:300px; height:20px; vertical-align: middle;'></progress>\n",
              "      [1/1 : < :]\n",
              "    </div>\n",
              "    "
            ],
            "text/plain": [
              "<IPython.core.display.HTML object>"
            ]
          },
          "metadata": {
            "tags": []
          }
        },
        {
          "output_type": "display_data",
          "data": {
            "text/html": [
              "\n",
              "    <div>\n",
              "      \n",
              "      <progress value='1' max='1' style='width:300px; height:20px; vertical-align: middle;'></progress>\n",
              "      [1/1 : < :]\n",
              "    </div>\n",
              "    "
            ],
            "text/plain": [
              "<IPython.core.display.HTML object>"
            ]
          },
          "metadata": {
            "tags": []
          }
        },
        {
          "output_type": "display_data",
          "data": {
            "text/html": [
              "\n",
              "    <div>\n",
              "      \n",
              "      <progress value='1' max='1' style='width:300px; height:20px; vertical-align: middle;'></progress>\n",
              "      [1/1 : < :]\n",
              "    </div>\n",
              "    "
            ],
            "text/plain": [
              "<IPython.core.display.HTML object>"
            ]
          },
          "metadata": {
            "tags": []
          }
        },
        {
          "output_type": "stream",
          "text": [
            "{'result': ['sci.crypt', 'sci.electronics', 'sci.med', 'sci.space'], 'probability': [0.99963284, 0.99953604, 0.9995111, 0.99928695]}\n",
            "['sci.crypt', 'sci.electronics', 'sci.med', 'sci.space']\n"
          ],
          "name": "stdout"
        }
      ]
    },
    {
      "cell_type": "markdown",
      "metadata": {
        "id": "Dgom9tNjXcZv"
      },
      "source": [
        "### Test Serv - Dev Model"
      ]
    },
    {
      "cell_type": "code",
      "metadata": {
        "colab": {
          "base_uri": "https://localhost:8080/"
        },
        "id": "QUz8-4ccXcZw",
        "outputId": "5f51f47f-2143-404d-e1a1-06171b8d21d3"
      },
      "source": [
        "msg_classif_serv.start_dev_server(port=5000)"
      ],
      "execution_count": 39,
      "outputs": [
        {
          "output_type": "stream",
          "text": [
            "[2021-06-21 06:59:41,356] INFO - BentoService bundle 'MsgCatServ:20210621065806_48EE89' created at: /tmp/tmpmqj0of9z\n",
            "[2021-06-21 06:59:41,383] INFO - ======= starting dev server on port: 5000 =======\n"
          ],
          "name": "stdout"
        }
      ]
    },
    {
      "cell_type": "code",
      "metadata": {
        "colab": {
          "base_uri": "https://localhost:8080/"
        },
        "id": "bfpwad_MXcZy",
        "outputId": "60391550-0c7e-4b1b-f529-087a092bf613"
      },
      "source": [
        "import requests\n",
        "# headers = {\"content-type\": \"application/json\"}\n",
        "response = requests.post(\n",
        "    \"http://localhost:5000/predict\",\n",
        "    json=sample_x\n",
        ")\n",
        "print(response.text)"
      ],
      "execution_count": 42,
      "outputs": [
        {
          "output_type": "stream",
          "text": [
            "{\"result\": [\"sci.crypt\", \"sci.electronics\", \"sci.med\", \"sci.space\"], \"probability\": [0.9996328353881836, 0.9995360374450684, 0.9995111227035522, 0.999286949634552]}\n"
          ],
          "name": "stdout"
        }
      ]
    },
    {
      "cell_type": "code",
      "metadata": {
        "colab": {
          "base_uri": "https://localhost:8080/"
        },
        "id": "Y381lp9KXcZz",
        "outputId": "1d5bb6c9-dbce-4ab5-f19c-61814244b7c5"
      },
      "source": [
        "msg_classif_serv.stop_dev_server()"
      ],
      "execution_count": 43,
      "outputs": [
        {
          "output_type": "stream",
          "text": [
            "[2021-06-21 07:00:33,497] INFO - Dev server has stopped.\n"
          ],
          "name": "stdout"
        }
      ]
    },
    {
      "cell_type": "markdown",
      "metadata": {
        "id": "EC560ZdTXcZ0"
      },
      "source": [
        "### Test Serv - REST API"
      ]
    },
    {
      "cell_type": "code",
      "metadata": {
        "id": "oXTfSix6XcZ1"
      },
      "source": [
        "# !bentoml serve MsgCatServ:latest\n",
        "!bentoml serve MsgCatServ:latest --run-with-ngrok\n",
        "# sample request body : [\"The best microchip in the electronic indsutry was released in June 2021.\"]\n",
        "\n",
        "# now service can be called via curl, request module, browser\n",
        "\n",
        "# curl -i --header \"Content-Type: application/json\" --request POST --data <data> localhost:5000/predict\n",
        "# response = requests.post(\"http://127.0.0.1:5000/predict\", json=<data> )\n",
        "# browser link :  http://localhost:5000"
      ],
      "execution_count": 44,
      "outputs": []
    },
    {
      "cell_type": "markdown",
      "metadata": {
        "id": "jLhrElngXcZ2"
      },
      "source": [
        "### Test Serv - Docker"
      ]
    },
    {
      "cell_type": "code",
      "metadata": {
        "id": "EvQlAcLXXcZ2"
      },
      "source": [
        "# Docker isn't supported in G.Colab. Test it in local machine instead\n",
        "\n",
        "# !bentoml containerize MsgCatServ:latest -t msg-categorizer:v1\n",
        "# !docker run -p 5000:5000 msg-categorizer:v1 --workers=2"
      ],
      "execution_count": null,
      "outputs": []
    },
    {
      "cell_type": "markdown",
      "metadata": {
        "id": "BRmBUANcXcZ3"
      },
      "source": [
        "### Test Serv - Bento Service"
      ]
    },
    {
      "cell_type": "code",
      "metadata": {
        "colab": {
          "base_uri": "https://localhost:8080/",
          "height": 162
        },
        "id": "83_51W9_XcZ3",
        "outputId": "8ccc11c0-1a0a-46e1-ccb6-17fa8bf3fb00"
      },
      "source": [
        "import bentoml\n",
        "import pandas as pd\n",
        "\n",
        "bento_svc = bentoml.load(saved_path)\n",
        "\n",
        "# Test loaded bentoml service:\n",
        "bento_svc.predict(sample_x)"
      ],
      "execution_count": 45,
      "outputs": [
        {
          "output_type": "stream",
          "text": [
            "[2021-06-21 07:03:53,373] WARNING - Module `bento_service_m2` already loaded, using existing imported module.\n",
            "[2021-06-21 07:03:54,799] WARNING - pip package requirement xgboost already exist\n"
          ],
          "name": "stdout"
        },
        {
          "output_type": "display_data",
          "data": {
            "text/html": [
              "\n",
              "    <div>\n",
              "      \n",
              "      <progress value='1' max='1' style='width:300px; height:20px; vertical-align: middle;'></progress>\n",
              "      [1/1 : < :]\n",
              "    </div>\n",
              "    "
            ],
            "text/plain": [
              "<IPython.core.display.HTML object>"
            ]
          },
          "metadata": {
            "tags": []
          }
        },
        {
          "output_type": "display_data",
          "data": {
            "text/html": [
              "\n",
              "    <div>\n",
              "      \n",
              "      <progress value='1' max='1' style='width:300px; height:20px; vertical-align: middle;'></progress>\n",
              "      [1/1 : < :]\n",
              "    </div>\n",
              "    "
            ],
            "text/plain": [
              "<IPython.core.display.HTML object>"
            ]
          },
          "metadata": {
            "tags": []
          }
        },
        {
          "output_type": "display_data",
          "data": {
            "text/html": [
              "\n",
              "    <div>\n",
              "      \n",
              "      <progress value='1' max='1' style='width:300px; height:20px; vertical-align: middle;'></progress>\n",
              "      [1/1 : < :]\n",
              "    </div>\n",
              "    "
            ],
            "text/plain": [
              "<IPython.core.display.HTML object>"
            ]
          },
          "metadata": {
            "tags": []
          }
        },
        {
          "output_type": "display_data",
          "data": {
            "text/html": [
              "\n",
              "    <div>\n",
              "      \n",
              "      <progress value='1' max='1' style='width:300px; height:20px; vertical-align: middle;'></progress>\n",
              "      [1/1 : < :]\n",
              "    </div>\n",
              "    "
            ],
            "text/plain": [
              "<IPython.core.display.HTML object>"
            ]
          },
          "metadata": {
            "tags": []
          }
        },
        {
          "output_type": "execute_result",
          "data": {
            "text/plain": [
              "{'probability': [0.99963284, 0.99953604, 0.9995111, 0.99928695],\n",
              " 'result': ['sci.crypt', 'sci.electronics', 'sci.med', 'sci.space']}"
            ]
          },
          "metadata": {
            "tags": []
          },
          "execution_count": 45
        }
      ]
    },
    {
      "cell_type": "markdown",
      "metadata": {
        "id": "PxnnjsOcYpk4"
      },
      "source": [
        "### Test Serv - PyPI\n",
        "Directly installed service as Python module"
      ]
    },
    {
      "cell_type": "code",
      "metadata": {
        "colab": {
          "base_uri": "https://localhost:8080/",
          "height": 146
        },
        "id": "ryoA6534XcZ4",
        "outputId": "9204888c-cb46-4b36-bd59-8680d2159041"
      },
      "source": [
        "!pip install -q {saved_path}\n",
        "\n",
        "import MsgCatServ\n",
        "\n",
        "installed_svc = MsgCatServ.load()\n",
        "installed_svc.predict(sample_x)"
      ],
      "execution_count": 46,
      "outputs": [
        {
          "output_type": "stream",
          "text": [
            "  Building wheel for MsgCatServ (setup.py) ... \u001b[?25l\u001b[?25hdone\n"
          ],
          "name": "stdout"
        },
        {
          "output_type": "display_data",
          "data": {
            "text/html": [
              "\n",
              "    <div>\n",
              "      \n",
              "      <progress value='1' max='1' style='width:300px; height:20px; vertical-align: middle;'></progress>\n",
              "      [1/1 : < :]\n",
              "    </div>\n",
              "    "
            ],
            "text/plain": [
              "<IPython.core.display.HTML object>"
            ]
          },
          "metadata": {
            "tags": []
          }
        },
        {
          "output_type": "display_data",
          "data": {
            "text/html": [
              "\n",
              "    <div>\n",
              "      \n",
              "      <progress value='1' max='1' style='width:300px; height:20px; vertical-align: middle;'></progress>\n",
              "      [1/1 : < :]\n",
              "    </div>\n",
              "    "
            ],
            "text/plain": [
              "<IPython.core.display.HTML object>"
            ]
          },
          "metadata": {
            "tags": []
          }
        },
        {
          "output_type": "display_data",
          "data": {
            "text/html": [
              "\n",
              "    <div>\n",
              "      \n",
              "      <progress value='1' max='1' style='width:300px; height:20px; vertical-align: middle;'></progress>\n",
              "      [1/1 : < :]\n",
              "    </div>\n",
              "    "
            ],
            "text/plain": [
              "<IPython.core.display.HTML object>"
            ]
          },
          "metadata": {
            "tags": []
          }
        },
        {
          "output_type": "display_data",
          "data": {
            "text/html": [
              "\n",
              "    <div>\n",
              "      \n",
              "      <progress value='1' max='1' style='width:300px; height:20px; vertical-align: middle;'></progress>\n",
              "      [1/1 : < :]\n",
              "    </div>\n",
              "    "
            ],
            "text/plain": [
              "<IPython.core.display.HTML object>"
            ]
          },
          "metadata": {
            "tags": []
          }
        },
        {
          "output_type": "execute_result",
          "data": {
            "text/plain": [
              "{'probability': [0.99963284, 0.99953604, 0.9995111, 0.99928695],\n",
              " 'result': ['sci.crypt', 'sci.electronics', 'sci.med', 'sci.space']}"
            ]
          },
          "metadata": {
            "tags": []
          },
          "execution_count": 46
        }
      ]
    },
    {
      "cell_type": "markdown",
      "metadata": {
        "id": "hl8S92z8XcZ4"
      },
      "source": [
        "### Test Serv - CLI"
      ]
    },
    {
      "cell_type": "code",
      "metadata": {
        "id": "x9Ff6QAjckQW"
      },
      "source": [
        "df_test = pd.DataFrame(sample_x)\n",
        "df_test.to_csv(\"./test.csv\", index=False)"
      ],
      "execution_count": 84,
      "outputs": []
    },
    {
      "cell_type": "code",
      "metadata": {
        "id": "NLsZN930XcZ5"
      },
      "source": [
        "# !bentoml run MsgCatServ:latest predict --input '{df_test.to_json()}' --quiet\n",
        "!bentoml run MsgCatServ:latest predict --input-file \"./test.csv\" --format \"csv\" --quiet\n",
        "\n",
        "# !docker run -v $(PWD):/tmp msg-categorizer:v1  bentoml run /bento predict --input-file \"<file>.csv\" --format \"csv\" --quiet"
      ],
      "execution_count": null,
      "outputs": []
    }
  ]
}