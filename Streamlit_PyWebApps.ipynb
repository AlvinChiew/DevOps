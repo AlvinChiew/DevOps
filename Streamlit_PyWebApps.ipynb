{
  "nbformat": 4,
  "nbformat_minor": 0,
  "metadata": {
    "colab": {
      "name": "Streamlit_PyWebApps.ipynb",
      "provenance": [],
      "collapsed_sections": [],
      "authorship_tag": "ABX9TyNPRJRxjwj+gyGI8rHYD24l"
    },
    "kernelspec": {
      "name": "python3",
      "display_name": "Python 3"
    },
    "language_info": {
      "name": "python"
    },
    "accelerator": "GPU"
  },
  "cells": [
    {
      "cell_type": "code",
      "metadata": {
        "colab": {
          "base_uri": "https://localhost:8080/"
        },
        "id": "tOuEWJoj0wbm",
        "outputId": "359e4c26-9aa8-4cbd-8879-03cabada57bb"
      },
      "source": [
        "!pip install -q -U ipykernel\n",
        "!pip install -q streamlit\n",
        "!pip install -q pyngrok"
      ],
      "execution_count": 1,
      "outputs": [
        {
          "output_type": "stream",
          "text": [
            "\u001b[?25l\r\u001b[K     |██▊                             | 10kB 25.5MB/s eta 0:00:01\r\u001b[K     |█████▍                          | 20kB 29.2MB/s eta 0:00:01\r\u001b[K     |████████                        | 30kB 33.0MB/s eta 0:00:01\r\u001b[K     |██████████▊                     | 40kB 36.1MB/s eta 0:00:01\r\u001b[K     |█████████████▍                  | 51kB 32.3MB/s eta 0:00:01\r\u001b[K     |████████████████                | 61kB 33.2MB/s eta 0:00:01\r\u001b[K     |██████████████████▊             | 71kB 31.8MB/s eta 0:00:01\r\u001b[K     |█████████████████████▍          | 81kB 32.5MB/s eta 0:00:01\r\u001b[K     |████████████████████████        | 92kB 32.4MB/s eta 0:00:01\r\u001b[K     |██████████████████████████▊     | 102kB 33.2MB/s eta 0:00:01\r\u001b[K     |█████████████████████████████▍  | 112kB 33.2MB/s eta 0:00:01\r\u001b[K     |████████████████████████████████| 122kB 33.2MB/s \n",
            "\u001b[K     |████████████████████████████████| 788kB 28.9MB/s \n",
            "\u001b[K     |████████████████████████████████| 368kB 60.7MB/s \n",
            "\u001b[31mERROR: jupyter-console 5.2.0 has requirement prompt-toolkit<2.0.0,>=1.0.0, but you'll have prompt-toolkit 3.0.19 which is incompatible.\u001b[0m\n",
            "\u001b[31mERROR: google-colab 1.0.0 has requirement ipykernel~=4.10, but you'll have ipykernel 6.0.1 which is incompatible.\u001b[0m\n",
            "\u001b[31mERROR: google-colab 1.0.0 has requirement ipython~=5.5.0, but you'll have ipython 7.25.0 which is incompatible.\u001b[0m\n",
            "\u001b[K     |████████████████████████████████| 7.8MB 28.4MB/s \n",
            "\u001b[K     |████████████████████████████████| 174kB 55.9MB/s \n",
            "\u001b[K     |████████████████████████████████| 81kB 14.2MB/s \n",
            "\u001b[K     |████████████████████████████████| 112kB 64.2MB/s \n",
            "\u001b[K     |████████████████████████████████| 4.2MB 50.9MB/s \n",
            "\u001b[K     |████████████████████████████████| 71kB 11.8MB/s \n",
            "\u001b[?25h  Building wheel for blinker (setup.py) ... \u001b[?25l\u001b[?25hdone\n",
            "\u001b[K     |████████████████████████████████| 747kB 33.2MB/s \n",
            "\u001b[?25h  Building wheel for pyngrok (setup.py) ... \u001b[?25l\u001b[?25hdone\n"
          ],
          "name": "stdout"
        }
      ]
    },
    {
      "cell_type": "code",
      "metadata": {
        "id": "zlTQd7gKo6uZ"
      },
      "source": [
        "from pyngrok import ngrok"
      ],
      "execution_count": 2,
      "outputs": []
    },
    {
      "cell_type": "code",
      "metadata": {
        "colab": {
          "base_uri": "https://localhost:8080/"
        },
        "id": "SlHtczNxp1TC",
        "outputId": "2ea5f0c9-9c63-4943-e9a3-edebbd0d5486"
      },
      "source": [
        "# get token from https://dashboard.ngrok.com/get-started/your-authtoken after sign-up/in\n",
        "!ngrok authtoken XXXXXXXXXXXXXXXXXXXXXXX"
      ],
      "execution_count": 3,
      "outputs": [
        {
          "output_type": "stream",
          "text": [
            "Authtoken saved to configuration file: /root/.ngrok2/ngrok.yml\n"
          ],
          "name": "stdout"
        }
      ]
    },
    {
      "cell_type": "code",
      "metadata": {
        "colab": {
          "base_uri": "https://localhost:8080/"
        },
        "id": "_V9pRVu42Zej",
        "outputId": "9765c26b-717e-4713-9e4a-b8eacd50e054"
      },
      "source": [
        "%%writefile detect_and_classify.py\n",
        "\n",
        "import torch\n",
        "import streamlit as st\n",
        "# from cv2 import imread, cvtColor, resize, COLOR_BGR2RGB, INTER_AREA\n",
        "from PIL import Image\n",
        "\n",
        "st.set_option('deprecation.showfileUploaderEncoding', False)\n",
        "st.title('YOLOv5 COCO Object Detector')\n",
        "\n",
        "@st.cache(allow_output_mutation=True)\n",
        "def load_model():\n",
        "    model = torch.hub.load('ultralytics/yolov5', 'yolov5s')\n",
        "    return model\n",
        "\n",
        "with st.spinner('Loading model into memory'):\n",
        "    model = load_model()\n",
        "\n",
        "st.sidebar.subheader('Input Method')\n",
        "input_method = st.sidebar.selectbox('', ['URL', 'Upload'])\n",
        "st.sidebar.subheader('Variables')\n",
        "thresh = st.sidebar.slider('Threshold', 0.0, 1.0, 0.5)\n",
        "iou = st.sidebar.slider('Intersection over Union', 0.0, 1.0, 0.5)\n",
        "\n",
        "\n",
        "# Examples: https://ultralytics.com/images/bus.jpg; https://ultralytics.com/images/zidane.jpg, https://raw.githubusercontent.com/pjreddie/darknet/master/data/dog.jpg, https://github.com/pjreddie/darknet/blob/master/data/person.jpg\n",
        "if input_method == 'URL':\n",
        "    input = st.text_input('Enter Image URL to Classify...',  'https://raw.githubusercontent.com/pjreddie/darknet/master/data/dog.jpg')\n",
        "elif input_method == 'Upload':\n",
        "    input = st.file_uploader(label='upload image for detection', type=['png','jpg'])\n",
        "else:\n",
        "    st.write('Input method not handled')\n",
        "\n",
        "if input is not None and input != '':    \n",
        "\n",
        "    ### Model Configs ###\n",
        "    model.conf = thresh # confidence threshold (0-1)\n",
        "    model.iou = iou  # NMS IoU threshold (0-1)\n",
        "    # model.classes = None  # (optional list) filter by class, i.e. = [0, 15, 16] for persons, cats and dogs\n",
        "\n",
        "    # output_path = 'runs/hub/exps/'\n",
        "    # img_name = input.name if input_method == 'Upload' else input.split('/')[-1]\n",
        "    input = Image.open(input) if input_method == 'Upload' else input\n",
        "\n",
        "    st.write(\"Predicted Class: \")\n",
        "    with st.spinner('classifying...'):\n",
        "        results = model(input)\n",
        "\n",
        "    # results.save(output_path)\n",
        "    # img_output_name = output_path + img_name\n",
        "    # img_output = imread(img_output_name)\n",
        "    # img_output = cvtColor(img_output, COLOR_BGR2RGB)\n",
        "    # img_output = Image.open(img_output_name)\n",
        "    img_output = Image.fromarray(results.render()[0], 'RGB')\n",
        "\n",
        "    # h_, w_, c_ = img_output.shape\n",
        "    w_, h_ = img_output.size\n",
        "    w = 800\n",
        "    h = int(w / w_ * h_)\n",
        "    # img_output = resize(img_output, (w, h), interpolation = INTER_AREA)\n",
        "    img_output = img_output.resize((w, h), Image.ANTIALIAS)\n",
        "\n",
        "    st.image(img_output, caption='Detected Objects', use_column_width=True)\n",
        "    st.write(results.pandas().xywh[0][['name','confidence','xcenter','ycenter']])"
      ],
      "execution_count": 152,
      "outputs": [
        {
          "output_type": "stream",
          "text": [
            "Overwriting detect_and_classify.py\n"
          ],
          "name": "stdout"
        }
      ]
    },
    {
      "cell_type": "code",
      "metadata": {
        "colab": {
          "base_uri": "https://localhost:8080/"
        },
        "id": "2rKa72yBoDHT",
        "outputId": "9639ab4b-39ae-4c14-9011-66f59ee5361d"
      },
      "source": [
        "!nohup streamlit run detect_and_classify.py &"
      ],
      "execution_count": 19,
      "outputs": [
        {
          "output_type": "stream",
          "text": [
            "nohup: appending output to 'nohup.out'\n"
          ],
          "name": "stdout"
        }
      ]
    },
    {
      "cell_type": "code",
      "metadata": {
        "colab": {
          "base_uri": "https://localhost:8080/"
        },
        "id": "eEhOQQRQo3qK",
        "outputId": "2cb22769-b3bb-4f78-a06f-2b61488ddd04"
      },
      "source": [
        "url = ngrok.connect(addr=8502)\n",
        "url"
      ],
      "execution_count": 20,
      "outputs": [
        {
          "output_type": "execute_result",
          "data": {
            "text/plain": [
              "<NgrokTunnel: \"http://dca594b653e3.ngrok.io\" -> \"http://localhost:8502\">"
            ]
          },
          "metadata": {
            "tags": []
          },
          "execution_count": 20
        }
      ]
    },
    {
      "cell_type": "code",
      "metadata": {
        "colab": {
          "base_uri": "https://localhost:8080/"
        },
        "id": "KtZ1Uj6Kp_eq",
        "outputId": "deb331bd-36cb-4d2d-c864-204f41e1fb88"
      },
      "source": [
        "!cat nohup.out"
      ],
      "execution_count": 81,
      "outputs": [
        {
          "output_type": "stream",
          "text": [
            "\n",
            "  You can now view your Streamlit app in your browser.\n",
            "\n",
            "  Network URL: http://172.28.0.2:8503\n",
            "  External URL: http://35.194.79.32:8503\n",
            "\n",
            "Using cache found in /root/.cache/torch/hub/ultralytics_yolov5_master\n",
            "2021-07-12 13:02:14.459 YOLOv5 🚀 2021-7-12 torch 1.9.0+cu102 CUDA:0 (Tesla T4, 15109.75MB)\n",
            "\n",
            "2021-07-12 13:02:17.864 Fusing layers... \n",
            "2021-07-12 13:02:17.952 Model Summary: 224 layers, 7266973 parameters, 0 gradients\n",
            "2021-07-12 13:02:17.954 Adding AutoShape... \n"
          ],
          "name": "stdout"
        }
      ]
    },
    {
      "cell_type": "code",
      "metadata": {
        "id": "CMP0EOtRplSB"
      },
      "source": [
        "!killall ngrok\n",
        "!rm nohup.out"
      ],
      "execution_count": 18,
      "outputs": []
    }
  ]
}